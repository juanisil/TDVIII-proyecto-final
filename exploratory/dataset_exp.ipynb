{
 "cells": [
  {
   "cell_type": "code",
   "execution_count": 1,
   "metadata": {},
   "outputs": [],
   "source": [
    "%load_ext autoreload"
   ]
  },
  {
   "cell_type": "code",
   "execution_count": 2,
   "metadata": {},
   "outputs": [],
   "source": [
    "%autoreload 2"
   ]
  },
  {
   "cell_type": "code",
   "execution_count": 4,
   "metadata": {},
   "outputs": [],
   "source": [
    "import sys\n",
    "\n",
    "sys.path.append(\"../\")"
   ]
  },
  {
   "cell_type": "code",
   "execution_count": 9,
   "metadata": {},
   "outputs": [],
   "source": [
    "from src.event_processing import leer_excel\n",
    "\n",
    "epl = leer_excel(\"../SampleData/epl.xlsx\")"
   ]
  },
  {
   "cell_type": "code",
   "execution_count": 11,
   "metadata": {},
   "outputs": [],
   "source": [
    "from src.event_processing import (\n",
    "    separar_partido_del_equipo_en_lineups,\n",
    "    separar_partido_en_equipo_pov,\n",
    "    separar_partidos,\n",
    ")\n",
    "from src.match_data_extraction import get_jugadores\n",
    "\n",
    "partidos = separar_partidos(epl)\n",
    "partido = partidos[0]"
   ]
  },
  {
   "cell_type": "code",
   "execution_count": 13,
   "metadata": {},
   "outputs": [
    {
     "data": {
      "text/plain": [
       "Index(['season_id', 'match_id', 'home_team_id', 'home_team_name',\n",
       "       'away_team_id', 'away_team_name', 'id', 'event_id', 'date', 'time',\n",
       "       'period_id', 'min', 'sec', 'team_id', 'player_id', 'playerName',\n",
       "       'playerPosition', 'x', 'y', 'type', 'description', 'outcome'],\n",
       "      dtype='object')"
      ]
     },
     "execution_count": 13,
     "metadata": {},
     "output_type": "execute_result"
    }
   ],
   "source": [
    "partido.columns"
   ]
  },
  {
   "cell_type": "code",
   "execution_count": 15,
   "metadata": {},
   "outputs": [
    {
     "data": {
      "image/png": "[encoded data removed]",
      "text/plain": [
       "<Figure size 640x480 with 1 Axes>"
      ]
     },
     "metadata": {},
     "output_type": "display_data"
    }
   ],
   "source": [
    "# Matplotlib animation\n",
    "from mplsoccer import Pitch, VerticalPitch\n",
    "import matplotlib.pyplot as plt\n",
    "import seaborn as sns\n",
    "from matplotlib.animation import FuncAnimation\n",
    "\n",
    "partido.columns # ['season_id', 'match_id', 'home_team_id', 'home_team_name',\n",
    "#       'away_team_id', 'away_team_name', 'id', 'event_id', 'date', 'time',\n",
    "#       'period_id', 'min', 'sec', 'team_id', 'player_id', 'playerName',\n",
    "#       'playerPosition', 'x', 'y', 'type', 'description', 'outcome']\n",
    "\n",
    "pitch = Pitch(\n",
    "    pitch_type=\"opta\",\n",
    "    line_zorder=2,\n",
    "    # axis=True, label=True\n",
    ")\n",
    "\n",
    "# Animation\n",
    "fig, ax = pitch.draw()\n",
    "\n",
    "def animate(i):\n",
    "    ax.clear()\n",
    "    pitch.draw(ax=ax)\n",
    "    df = partido[partido[\"min\"] == i]\n",
    "    for i, row in df.iterrows():\n",
    "        if row[\"team_id\"] == partido[\"home_team_id\"].iloc[0]:\n",
    "            color = \"red\"\n",
    "        else:\n",
    "            color = \"blue\"\n",
    "        ax.plot(row[\"x\"], row[\"y\"], \"o\", color=color, zorder=3)\n",
    "\n",
    "ani = FuncAnimation(fig, animate, frames=range(0, 90), interval=1000)\n",
    "\n",
    "# save animation to mp4\n",
    "ani.save(\"animation.mp4\", writer=\"ffmpeg\")"
   ]
  },
  {
   "cell_type": "code",
   "execution_count": null,
   "metadata": {},
   "outputs": [],
   "source": []
  }
 ],
 "metadata": {
  "kernelspec": {
   "display_name": "Python 3",
   "language": "python",
   "name": "python3"
  },
  "language_info": {
   "codemirror_mode": {
    "name": "ipython",
    "version": 3
   },
   "file_extension": ".py",
   "mimetype": "text/x-python",
   "name": "python",
   "nbconvert_exporter": "python",
   "pygments_lexer": "ipython3",
   "version": "3.10.14"
  }
 },
 "nbformat": 4,
 "nbformat_minor": 2
}
