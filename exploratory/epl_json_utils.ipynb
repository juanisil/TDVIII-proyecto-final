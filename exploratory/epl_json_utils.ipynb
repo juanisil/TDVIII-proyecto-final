{
 "cells": [
  {
   "cell_type": "code",
   "execution_count": 7,
   "metadata": {},
   "outputs": [
    {
     "data": {
      "text/plain": [
       "{'playerId': 256266,\n",
       " 'info': {'position': 'F',\n",
       "  'shirtNum': 10,\n",
       "  'positionInfo': 'Left/Centre/Right Striker'},\n",
       " 'nationalTeam': {'isoCode': 'DE', 'country': 'Germany', 'demonym': 'German'},\n",
       " 'currentTeam': {'name': 'Antalyaspor',\n",
       "  'club': {'name': 'Antalyaspor', 'abbr': 'ATY', 'id': 1914},\n",
       "  'teamType': 'FIRST',\n",
       "  'shortName': 'Antalyaspor',\n",
       "  'id': 2128,\n",
       "  'altIds': {'opta': 't381'}},\n",
       " 'birth': {'date': {'millis': 486691200000, 'label': '4 June 1985'},\n",
       "  'country': {'isoCode': 'PL', 'country': 'Poland', 'demonym': 'Polish'},\n",
       "  'place': 'Gliwice'},\n",
       " 'age': '39 years 80 days',\n",
       " 'name': {'display': 'Lukas Podolski', 'first': 'Lukas', 'last': 'Podolski'},\n",
       " 'id': 4480,\n",
       " 'altIds': {'opta': 'p17733'}}"
      ]
     },
     "execution_count": 7,
     "metadata": {},
     "output_type": "execute_result"
    }
   ],
   "source": [
    "import json\n",
    "epl_player_json_path = \"../SampleData/players.json\"\n",
    "\n",
    "epl_player_json = open(epl_player_json_path, \"r\")\n",
    "epl_player_data = json.load(epl_player_json)\n",
    "epl_player_json.close()\n",
    "\n",
    "\n",
    "schema = \"\"\" [\n",
    "  {\n",
    "    \"pageInfo\": {\n",
    "      \"page\": 5,\n",
    "      \"numPages\": 97,\n",
    "      \"pageSize\": 10,\n",
    "      \"numEntries\": 965\n",
    "    },\n",
    "    \"content\": [\n",
    "      {\n",
    "        \"playerId\": 51322,\n",
    "        \"info\": {\n",
    "          \"position\": \"D\",\n",
    "          \"shirtNum\": 17,\n",
    "          \"positionInfo\": \"Centre Central Defender\"\n",
    "        },\n",
    "        \"nationalTeam\": {\n",
    "          \"isoCode\": \"GB-ENG\",\n",
    "          \"country\": \"England\",\n",
    "          \"demonym\": \"English\"\n",
    "        },\n",
    "        \"previousTeam\": {\n",
    "          \"name\": \"Bristol City\",\n",
    "          \"club\": { \"name\": \"Bristol City\", \"abbr\": \"BCI\", \"id\": 132 },\n",
    "          \"teamType\": \"FIRST\",\n",
    "          \"shortName\": \"Bristol City\",\n",
    "          \"id\": 132,\n",
    "          \"altIds\": { \"opta\": \"t113\" }\n",
    "        },\n",
    "        \"birth\": {\n",
    "          \"date\": { \"millis\": 672364800000, \"label\": \"23 April 1991\" },\n",
    "          \"country\": {\n",
    "            \"isoCode\": \"GB-ENG\",\n",
    "            \"country\": \"England\",\n",
    "            \"demonym\": \"English\"\n",
    "          }\n",
    "        },\n",
    "        \"age\": \"33 years 122 days\",\n",
    "        \"name\": {\n",
    "          \"display\": \"Nathan Baker\",\n",
    "          \"first\": \"Nathan\",\n",
    "          \"last\": \"Baker\"\n",
    "        },\n",
    "        \"id\": 3561,\n",
    "        \"altIds\": { \"opta\": \"p52477\" }\n",
    "      }, \"\"\"\n",
    "\n",
    "def get_player_info(player_opta_id):\n",
    "    for page in epl_player_data:\n",
    "      for player in page[\"content\"]:\n",
    "        if player[\"altIds\"][\"opta\"] == f\"p{player_opta_id}\":\n",
    "          return player\n",
    "\n",
    "sample_id = 17733\n",
    "\n",
    "player_info = get_player_info(sample_id)\n",
    "player_info"
   ]
  },
  {
   "cell_type": "code",
   "execution_count": 8,
   "metadata": {},
   "outputs": [
    {
     "data": {
      "text/plain": [
       "{'display': 'Lukas Podolski', 'first': 'Lukas', 'last': 'Podolski'}"
      ]
     },
     "execution_count": 8,
     "metadata": {},
     "output_type": "execute_result"
    }
   ],
   "source": [
    "player_info[\"name\"]"
   ]
  },
  {
   "cell_type": "code",
   "execution_count": null,
   "metadata": {},
   "outputs": [],
   "source": []
  }
 ],
 "metadata": {
  "kernelspec": {
   "display_name": ".conda",
   "language": "python",
   "name": "python3"
  },
  "language_info": {
   "codemirror_mode": {
    "name": "ipython",
    "version": 3
   },
   "file_extension": ".py",
   "mimetype": "text/x-python",
   "name": "python",
   "nbconvert_exporter": "python",
   "pygments_lexer": "ipython3",
   "version": "3.10.14"
  }
 },
 "nbformat": 4,
 "nbformat_minor": 2
}
