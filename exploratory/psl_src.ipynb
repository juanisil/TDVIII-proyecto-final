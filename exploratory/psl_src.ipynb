{
 "cells": [
  {
   "cell_type": "code",
   "execution_count": 24,
   "metadata": {},
   "outputs": [
    {
     "name": "stdout",
     "output_type": "stream",
     "text": [
      "The autoreload extension is already loaded. To reload it, use:\n",
      "  %reload_ext autoreload\n"
     ]
    }
   ],
   "source": [
    "%load_ext autoreload"
   ]
  },
  {
   "cell_type": "code",
   "execution_count": 25,
   "metadata": {},
   "outputs": [],
   "source": [
    "%autoreload 2"
   ]
  },
  {
   "cell_type": "code",
   "execution_count": 26,
   "metadata": {},
   "outputs": [],
   "source": [
    "%reload_ext autoreload"
   ]
  },
  {
   "cell_type": "code",
   "execution_count": 27,
   "metadata": {},
   "outputs": [],
   "source": [
    "# from ..src.event_processing import leer_excel\n",
    "# ImportError: attempted relative import with no known parent package\n",
    "\n",
    "# This notebook is in /SampleData\n",
    "# The src folder is in the parent directory\n",
    "# We need to add the parent directory to the path\n",
    "import sys\n",
    "\n",
    "sys.path.append(\"../\")\n",
    "\n",
    "from src.event_processing import leer_excel\n",
    "\n",
    "epl = leer_excel(\"../SampleData/epl.xlsx\")"
   ]
  },
  {
   "cell_type": "code",
   "execution_count": 2,
   "metadata": {},
   "outputs": [],
   "source": [
    "import numpy as np\n",
    "from src.event_processing import (\n",
    "    separar_partido_del_equipo_en_lineups,\n",
    "    separar_partido_en_equipo_pov,\n",
    "    separar_partidos,\n",
    ")\n",
    "from src.match_data_extraction import get_jugadores"
   ]
  },
  {
   "cell_type": "code",
   "execution_count": 3,
   "metadata": {},
   "outputs": [],
   "source": [
    "partidos = separar_partidos(epl)\n",
    "sample_partido = partidos[np.random.randint(len(partidos))]\n"
   ]
  },
  {
   "cell_type": "code",
   "execution_count": 4,
   "metadata": {},
   "outputs": [
    {
     "name": "stderr",
     "output_type": "stream",
     "text": [
      "/var/folders/5j/7b3w3dw95qdcll87vxc3yn300000gn/T/ipykernel_30588/2405552128.py:2: SettingWithCopyWarning: \n",
      "A value is trying to be set on a copy of a slice from a DataFrame.\n",
      "Try using .loc[row_indexer,col_indexer] = value instead\n",
      "\n",
      "See the caveats in the documentation: https://pandas.pydata.org/pandas-docs/stable/user_guide/indexing.html#returning-a-view-versus-a-copy\n",
      "  data.loc[:, \"prev_team\"] = data[\"team_id\"].shift(1)\n",
      "/var/folders/5j/7b3w3dw95qdcll87vxc3yn300000gn/T/ipykernel_30588/2405552128.py:3: SettingWithCopyWarning: \n",
      "A value is trying to be set on a copy of a slice from a DataFrame.\n",
      "Try using .loc[row_indexer,col_indexer] = value instead\n",
      "\n",
      "See the caveats in the documentation: https://pandas.pydata.org/pandas-docs/stable/user_guide/indexing.html#returning-a-view-versus-a-copy\n",
      "  data.loc[:, \"is_gain\"] = data[\"team_id\"] != data[\"prev_team\"]\n",
      "/var/folders/5j/7b3w3dw95qdcll87vxc3yn300000gn/T/ipykernel_30588/2405552128.py:5: SettingWithCopyWarning: \n",
      "A value is trying to be set on a copy of a slice from a DataFrame.\n",
      "Try using .loc[row_indexer,col_indexer] = value instead\n",
      "\n",
      "See the caveats in the documentation: https://pandas.pydata.org/pandas-docs/stable/user_guide/indexing.html#returning-a-view-versus-a-copy\n",
      "  data.loc[:, \"next_team\"] = data[\"team_id\"].shift(-1)\n",
      "/var/folders/5j/7b3w3dw95qdcll87vxc3yn300000gn/T/ipykernel_30588/2405552128.py:6: SettingWithCopyWarning: \n",
      "A value is trying to be set on a copy of a slice from a DataFrame.\n",
      "Try using .loc[row_indexer,col_indexer] = value instead\n",
      "\n",
      "See the caveats in the documentation: https://pandas.pydata.org/pandas-docs/stable/user_guide/indexing.html#returning-a-view-versus-a-copy\n",
      "  data.loc[:, \"is_loss\"] = data[\"team_id\"] != data[\"next_team\"]\n"
     ]
    }
   ],
   "source": [
    "data = sample_partido\n",
    "data.loc[:, \"prev_team\"] = data[\"team_id\"].shift(1)\n",
    "data.loc[:, \"is_gain\"] = data[\"team_id\"] != data[\"prev_team\"]\n",
    "\n",
    "data.loc[:, \"next_team\"] = data[\"team_id\"].shift(-1)\n",
    "data.loc[:, \"is_loss\"] = data[\"team_id\"] != data[\"next_team\"]\n",
    "\n",
    "data.loc[:, \"is_gain\"] = data[\"is_gain\"].fillna(False)\n",
    "data.loc[:, \"is_loss\"] = data[\"is_loss\"].fillna(False)"
   ]
  },
  {
   "cell_type": "code",
   "execution_count": 5,
   "metadata": {},
   "outputs": [],
   "source": [
    "equipos = separar_partido_en_equipo_pov(sample_partido)\n",
    "sample_equipo = equipos[np.random.randint(2)]\n",
    "lineups = separar_partido_del_equipo_en_lineups(sample_equipo)\n",
    "sample_lineup = lineups[np.random.randint(2)]\n",
    "jugadores = get_jugadores(sample_lineup)\n",
    "jugador = jugadores[np.random.randint(len(jugadores))]"
   ]
  },
  {
   "cell_type": "code",
   "execution_count": 6,
   "metadata": {},
   "outputs": [
    {
     "data": {
      "text/html": [
       "<div>\n",
       "<style scoped>\n",
       "    .dataframe tbody tr th:only-of-type {\n",
       "        vertical-align: middle;\n",
       "    }\n",
       "\n",
       "    .dataframe tbody tr th {\n",
       "        vertical-align: top;\n",
       "    }\n",
       "\n",
       "    .dataframe thead th {\n",
       "        text-align: right;\n",
       "    }\n",
       "</style>\n",
       "<table border=\"1\" class=\"dataframe\">\n",
       "  <thead>\n",
       "    <tr style=\"text-align: right;\">\n",
       "      <th></th>\n",
       "      <th>is_gain</th>\n",
       "      <th>is_loss</th>\n",
       "    </tr>\n",
       "    <tr>\n",
       "      <th>player_id</th>\n",
       "      <th></th>\n",
       "      <th></th>\n",
       "    </tr>\n",
       "  </thead>\n",
       "  <tbody>\n",
       "    <tr>\n",
       "      <th>6240.0</th>\n",
       "      <td>1</td>\n",
       "      <td>1</td>\n",
       "    </tr>\n",
       "    <tr>\n",
       "      <th>7933.0</th>\n",
       "      <td>0</td>\n",
       "      <td>1</td>\n",
       "    </tr>\n",
       "    <tr>\n",
       "      <th>17974.0</th>\n",
       "      <td>2</td>\n",
       "      <td>4</td>\n",
       "    </tr>\n",
       "    <tr>\n",
       "      <th>20480.0</th>\n",
       "      <td>1</td>\n",
       "      <td>1</td>\n",
       "    </tr>\n",
       "    <tr>\n",
       "      <th>21060.0</th>\n",
       "      <td>2</td>\n",
       "      <td>2</td>\n",
       "    </tr>\n",
       "    <tr>\n",
       "      <th>27341.0</th>\n",
       "      <td>1</td>\n",
       "      <td>0</td>\n",
       "    </tr>\n",
       "    <tr>\n",
       "      <th>42727.0</th>\n",
       "      <td>1</td>\n",
       "      <td>0</td>\n",
       "    </tr>\n",
       "    <tr>\n",
       "      <th>42758.0</th>\n",
       "      <td>1</td>\n",
       "      <td>2</td>\n",
       "    </tr>\n",
       "    <tr>\n",
       "      <th>55604.0</th>\n",
       "      <td>7</td>\n",
       "      <td>5</td>\n",
       "    </tr>\n",
       "  </tbody>\n",
       "</table>\n",
       "</div>"
      ],
      "text/plain": [
       "           is_gain  is_loss\n",
       "player_id                  \n",
       "6240.0           1        1\n",
       "7933.0           0        1\n",
       "17974.0          2        4\n",
       "20480.0          1        1\n",
       "21060.0          2        2\n",
       "27341.0          1        0\n",
       "42727.0          1        0\n",
       "42758.0          1        2\n",
       "55604.0          7        5"
      ]
     },
     "execution_count": 6,
     "metadata": {},
     "output_type": "execute_result"
    }
   ],
   "source": [
    "sample_lineup.groupby(\"player_id\")[[\"is_gain\", \"is_loss\"]].sum()"
   ]
  },
  {
   "cell_type": "code",
   "execution_count": 7,
   "metadata": {},
   "outputs": [
    {
     "data": {
      "text/plain": [
       "42758.0"
      ]
     },
     "execution_count": 7,
     "metadata": {},
     "output_type": "execute_result"
    }
   ],
   "source": [
    "jugador"
   ]
  },
  {
   "cell_type": "code",
   "execution_count": 8,
   "metadata": {},
   "outputs": [
    {
     "data": {
      "text/plain": [
       "np.int64(1)"
      ]
     },
     "execution_count": 8,
     "metadata": {},
     "output_type": "execute_result"
    }
   ],
   "source": [
    "# set player_id as index\n",
    "sample_lineup.groupby(\"player_id\")[[\"is_gain\"]].sum().loc[jugador].values[0]"
   ]
  },
  {
   "cell_type": "code",
   "execution_count": 9,
   "metadata": {},
   "outputs": [
    {
     "name": "stdout",
     "output_type": "stream",
     "text": [
      "<class 'numpy.ndarray'>\n"
     ]
    }
   ],
   "source": [
    "from src.futbol_types import TransitionMatrix\n",
    "from src.utils_CTMC import build_R, build_Q\n",
    "\n",
    "\n",
    "R = build_R(sample_lineup)\n",
    "print(type(R))"
   ]
  },
  {
   "cell_type": "code",
   "execution_count": 10,
   "metadata": {},
   "outputs": [],
   "source": [
    "del build_Q"
   ]
  },
  {
   "cell_type": "code",
   "execution_count": 11,
   "metadata": {},
   "outputs": [
    {
     "data": {
      "text/plain": [
       "(14, 14)"
      ]
     },
     "execution_count": 11,
     "metadata": {},
     "output_type": "execute_result"
    }
   ],
   "source": [
    "Q: TransitionMatrix = np.array(R.copy())\n",
    "\n",
    "for i in range(14):\n",
    "    if np.sum(Q[i, :]) != 0:\n",
    "        Q[i, :] = Q[i, :] / np.sum(Q[i, :])\n",
    "\n",
    "Q.shape"
   ]
  },
  {
   "cell_type": "code",
   "execution_count": 12,
   "metadata": {},
   "outputs": [
    {
     "data": {
      "text/plain": [
       "np.float64(0.0)"
      ]
     },
     "execution_count": 12,
     "metadata": {},
     "output_type": "execute_result"
    }
   ],
   "source": [
    "# Define the following block decomposition of Q_g(A)\n",
    "\n",
    "#           |  T_{12x12}   R_{12x2}  |\n",
    "# Q_g(A) =  |\n",
    "#           |  0_{2x12}    I_{2x2}   |\n",
    "\n",
    "# where T contains the transition probabilities between transient states,\n",
    "# R contains the transition probabilities from transient to absorbing states,\n",
    "# 0 is a block of all zeros and I is an identity block.\n",
    "#\n",
    "# Leveraging this decomposition, the probability of shot before loss p_g(A) can be estimated from Qq(A) as we state in the following definition.\n",
    "\n",
    "# psl = p^_g(A) = [1, 0_{1×11}](I_{12x12} - T)^{-1} R[0, 1]^T\n",
    "\n",
    "# [1, 0_{1×11}] is a row vector of length 12 with a 1 in the first position and zeros elsewhere.\n",
    "# [0, 1]^T is a column vector of length 2 with a 1 in the second position and zeros elsewhere.\n",
    "\n",
    "# The matrix (I_{12x12} - T)^{-1} is the inverse of the matrix I_{12x12} - T.\n",
    "# The inverse of a matrix is a matrix that when multiplied by the original matrix gives an identity matrix.\n",
    "\n",
    "T: np.ndarray = Q[:12, :12]\n",
    "R: np.ndarray = Q[:12, 12:]\n",
    "I: np.ndarray = np.eye(2)\n",
    "Z: np.ndarray = np.zeros((2, 12))\n",
    "\n",
    "M = (np.eye(12) - T)\n",
    "\n",
    "M_inv = np.linalg.inv(M)\n",
    "\n",
    "psl = np.dot(np.dot(np.array([1] + [0] * 11), M_inv), R).dot(np.array([0, 1]).T)\n",
    "psl"
   ]
  },
  {
   "cell_type": "code",
   "execution_count": 13,
   "metadata": {},
   "outputs": [],
   "source": [
    "def psl_estimator_(Q: TransitionMatrix) -> float:\n",
    "    T: np.ndarray = Q[:12, :12]\n",
    "    R: np.ndarray = Q[:12, 12:]\n",
    "    I: np.ndarray = np.eye(2)\n",
    "    Z: np.ndarray = np.zeros((2, 12))\n",
    "\n",
    "    M = (np.eye(12) - T)\n",
    "\n",
    "    M_inv = np.linalg.inv(M)\n",
    "\n",
    "    psl = np.dot(np.dot(np.array([1] + [0] * 11), M_inv), R).dot(np.array([0, 1]).T)\n",
    "    return psl"
   ]
  },
  {
   "cell_type": "code",
   "execution_count": 14,
   "metadata": {},
   "outputs": [
    {
     "data": {
      "text/plain": [
       "np.float64(0.009273733780925022)"
      ]
     },
     "execution_count": 14,
     "metadata": {},
     "output_type": "execute_result"
    }
   ],
   "source": [
    "from src.match_data_extraction import get_lineup_duration\n",
    "from src.utils_CTMC import psl_estimator, build_Q, build_R\n",
    "\n",
    "lineups = separar_partido_del_equipo_en_lineups(sample_equipo)\n",
    "psls = np.array([psl_estimator(build_Q(build_R(lineup))) for lineup in lineups])\n",
    "lineup_durations = np.array([get_lineup_duration(lineup) for lineup in lineups])\n",
    "\n",
    "np.average(psls, weights=lineup_durations)"
   ]
  },
  {
   "cell_type": "code",
   "execution_count": 15,
   "metadata": {},
   "outputs": [
    {
     "data": {
      "text/plain": [
       "np.float64(0.009273733780925022)"
      ]
     },
     "execution_count": 15,
     "metadata": {},
     "output_type": "execute_result"
    }
   ],
   "source": [
    "from src.utils_CTMC import team_psl\n",
    "\n",
    "team_psl(sample_equipo)"
   ]
  },
  {
   "cell_type": "code",
   "execution_count": 16,
   "metadata": {},
   "outputs": [
    {
     "data": {
      "text/html": [
       "<div>\n",
       "<style scoped>\n",
       "    .dataframe tbody tr th:only-of-type {\n",
       "        vertical-align: middle;\n",
       "    }\n",
       "\n",
       "    .dataframe tbody tr th {\n",
       "        vertical-align: top;\n",
       "    }\n",
       "\n",
       "    .dataframe thead th {\n",
       "        text-align: right;\n",
       "    }\n",
       "</style>\n",
       "<table border=\"1\" class=\"dataframe\">\n",
       "  <thead>\n",
       "    <tr style=\"text-align: right;\">\n",
       "      <th></th>\n",
       "      <th>season_id</th>\n",
       "      <th>match_id</th>\n",
       "      <th>home_team_id</th>\n",
       "      <th>home_team_name</th>\n",
       "      <th>away_team_id</th>\n",
       "      <th>away_team_name</th>\n",
       "      <th>id</th>\n",
       "      <th>event_id</th>\n",
       "      <th>date</th>\n",
       "      <th>time</th>\n",
       "      <th>...</th>\n",
       "      <th>playerPosition</th>\n",
       "      <th>x</th>\n",
       "      <th>y</th>\n",
       "      <th>type</th>\n",
       "      <th>description</th>\n",
       "      <th>outcome</th>\n",
       "      <th>prev_team</th>\n",
       "      <th>is_gain</th>\n",
       "      <th>next_team</th>\n",
       "      <th>is_loss</th>\n",
       "    </tr>\n",
       "  </thead>\n",
       "  <tbody>\n",
       "    <tr>\n",
       "      <th>395572</th>\n",
       "      <td>2012</td>\n",
       "      <td>442230</td>\n",
       "      <td>7</td>\n",
       "      <td>Aston Villa</td>\n",
       "      <td>4</td>\n",
       "      <td>Newcastle United</td>\n",
       "      <td>1640282175</td>\n",
       "      <td>212</td>\n",
       "      <td>29Jan2013</td>\n",
       "      <td>20:03:12</td>\n",
       "      <td>...</td>\n",
       "      <td>Striker</td>\n",
       "      <td>86.9</td>\n",
       "      <td>39.1</td>\n",
       "      <td>16</td>\n",
       "      <td>Goal</td>\n",
       "      <td>1</td>\n",
       "      <td>4.0</td>\n",
       "      <td>False</td>\n",
       "      <td>7.0</td>\n",
       "      <td>True</td>\n",
       "    </tr>\n",
       "    <tr>\n",
       "      <th>395778</th>\n",
       "      <td>2012</td>\n",
       "      <td>442230</td>\n",
       "      <td>7</td>\n",
       "      <td>Aston Villa</td>\n",
       "      <td>4</td>\n",
       "      <td>Newcastle United</td>\n",
       "      <td>2117694788</td>\n",
       "      <td>303</td>\n",
       "      <td>29Jan2013</td>\n",
       "      <td>20:15:31</td>\n",
       "      <td>...</td>\n",
       "      <td>Midfielder</td>\n",
       "      <td>78.3</td>\n",
       "      <td>66.8</td>\n",
       "      <td>16</td>\n",
       "      <td>Goal</td>\n",
       "      <td>1</td>\n",
       "      <td>7.0</td>\n",
       "      <td>True</td>\n",
       "      <td>7.0</td>\n",
       "      <td>True</td>\n",
       "    </tr>\n",
       "  </tbody>\n",
       "</table>\n",
       "<p>2 rows × 26 columns</p>\n",
       "</div>"
      ],
      "text/plain": [
       "        season_id  match_id  home_team_id home_team_name  away_team_id  \\\n",
       "395572       2012    442230             7    Aston Villa             4   \n",
       "395778       2012    442230             7    Aston Villa             4   \n",
       "\n",
       "          away_team_name          id  event_id       date      time  ...  \\\n",
       "395572  Newcastle United  1640282175       212  29Jan2013  20:03:12  ...   \n",
       "395778  Newcastle United  2117694788       303  29Jan2013  20:15:31  ...   \n",
       "\n",
       "        playerPosition     x     y  type  description outcome prev_team  \\\n",
       "395572         Striker  86.9  39.1    16         Goal       1       4.0   \n",
       "395778      Midfielder  78.3  66.8    16         Goal       1       7.0   \n",
       "\n",
       "        is_gain  next_team  is_loss  \n",
       "395572    False        7.0     True  \n",
       "395778     True        7.0     True  \n",
       "\n",
       "[2 rows x 26 columns]"
      ]
     },
     "execution_count": 16,
     "metadata": {},
     "output_type": "execute_result"
    }
   ],
   "source": [
    "sample_equipo[sample_equipo[\"type\"] == 16]"
   ]
  },
  {
   "cell_type": "code",
   "execution_count": 17,
   "metadata": {},
   "outputs": [],
   "source": [
    "import pandas as pd\n",
    "import matplotlib.pyplot as plt\n",
    "import seaborn as sns"
   ]
  },
  {
   "cell_type": "code",
   "execution_count": 18,
   "metadata": {},
   "outputs": [
    {
     "name": "stdout",
     "output_type": "stream",
     "text": [
      "Error: La matriz es singular y no se puede invertir.\n",
      "Singular matrix\n",
      "Error: La matriz es singular y no se puede invertir.\n",
      "Singular matrix\n",
      "Error: La matriz es singular y no se puede invertir.\n",
      "Singular matrix\n"
     ]
    },
    {
     "data": {
      "text/plain": [
       "<Axes: >"
      ]
     },
     "execution_count": 18,
     "metadata": {},
     "output_type": "execute_result"
    },
    {
     "data": {
      "image/png": "[encoded data removed]",
      "text/plain": [
       "<Figure size 2000x1000 with 1 Axes>"
      ]
     },
     "metadata": {},
     "output_type": "display_data"
    }
   ],
   "source": [
    "delta_psls = []\n",
    "results = []\n",
    "missed = []\n",
    "\n",
    "def add_gains_loss_col(partido):\n",
    "    df = partido.copy()\n",
    "    df.loc[:, \"prev_team\"] = df[\"team_id\"].shift(1)\n",
    "    df.loc[:, \"is_gain\"] = df[\"team_id\"] != df[\"prev_team\"]\n",
    "\n",
    "    df.loc[:, \"next_team\"] = df[\"team_id\"].shift(-1)\n",
    "    df.loc[:, \"is_loss\"] = df[\"team_id\"] != df[\"next_team\"]\n",
    "\n",
    "    df.loc[:, \"is_gain\"] = df[\"is_gain\"].fillna(False)\n",
    "    df.loc[:, \"is_loss\"] = df[\"is_loss\"].fillna(False)\n",
    "    return df\n",
    "\n",
    "for partido in partidos:\n",
    "    equipos = separar_partido_en_equipo_pov(add_gains_loss_col(partido))\n",
    "\n",
    "    psl_0 = team_psl(equipos[0])\n",
    "    psl_1 = team_psl(equipos[1])\n",
    "\n",
    "    delta_psl = psl_0 - psl_1\n",
    "\n",
    "    if np.isnan(delta_psl):\n",
    "        missed.append(partido)\n",
    "    else:\n",
    "        goals_0 = equipos[0][equipos[0][\"type\"] == 16].shape[0]\n",
    "        goals_1 = equipos[1][equipos[1][\"type\"] == 16].shape[0]\n",
    "\n",
    "        r = 1\n",
    "        if goals_0 > goals_1:\n",
    "            r = 2\n",
    "        elif goals_0 < goals_1:\n",
    "            r = 0\n",
    "\n",
    "        delta_psls.append(delta_psl)\n",
    "        results.append(r)\n",
    "\n",
    "data = pd.DataFrame({\"Delta PSL\": delta_psls, \"Result\": results})\n",
    "data = data[data[\"Delta PSL\"].abs() < 0.025]\n",
    "\n",
    "fig, ax = plt.subplots(figsize=(20, 10))\n",
    "data[\"Delta PSL\"].hist(bins=100, ax=ax)"
   ]
  },
  {
   "cell_type": "code",
   "execution_count": 21,
   "metadata": {},
   "outputs": [
    {
     "name": "stderr",
     "output_type": "stream",
     "text": [
      "/var/folders/5j/7b3w3dw95qdcll87vxc3yn300000gn/T/ipykernel_30588/3346853269.py:6: FutureWarning: The default of observed=False is deprecated and will be changed to True in a future version of pandas. Pass observed=False to retain current behavior or observed=True to adopt the future default and silence this warning.\n",
      "  total = data.groupby(bins)[\"Result\"].sum().reset_index()\n",
      "/var/folders/5j/7b3w3dw95qdcll87vxc3yn300000gn/T/ipykernel_30588/3346853269.py:7: FutureWarning: The default of observed=False is deprecated and will be changed to True in a future version of pandas. Pass observed=False to retain current behavior or observed=True to adopt the future default and silence this warning.\n",
      "  total[\"Total\"] = data.groupby(bins)[\"Result\"].count().values\n",
      "/var/folders/5j/7b3w3dw95qdcll87vxc3yn300000gn/T/ipykernel_30588/3346853269.py:9: FutureWarning: The default of observed=False is deprecated and will be changed to True in a future version of pandas. Pass observed=False to retain current behavior or observed=True to adopt the future default and silence this warning.\n",
      "  counts = data.groupby(bins)[\"Result\"].value_counts()\n"
     ]
    },
    {
     "data": {
      "image/png": "[encoded data removed]",
      "text/plain": [
       "<Figure size 800x800 with 1 Axes>"
      ]
     },
     "metadata": {},
     "output_type": "display_data"
    }
   ],
   "source": [
    "# Crear los bins\n",
    "bin_count = 20\n",
    "bins = pd.cut(data[\"Delta PSL\"], bins=bin_count)\n",
    "\n",
    "# Calcular los porcentajes\n",
    "total = data.groupby(bins)[\"Result\"].sum().reset_index()\n",
    "total[\"Total\"] = data.groupby(bins)[\"Result\"].count().values\n",
    "\n",
    "counts = data.groupby(bins)[\"Result\"].value_counts()\n",
    "counts = counts.unstack().reset_index()\n",
    "counts[\"Total\"] = total[\"Total\"]\n",
    "\n",
    "counts[\"Team A Wins %\"] = counts[2] / counts[\"Total\"]\n",
    "counts[\"Draw %\"] = counts[1] / counts[\"Total\"]\n",
    "counts[\"Team B Wins %\"] = counts[0] / counts[\"Total\"]\n",
    "\n",
    "# stacked bar plot\n",
    "\n",
    "fig, ax = plt.subplots(figsize=(8, 8))\n",
    "counts[[\"Team A Wins %\", \"Draw %\", \"Team B Wins %\"]].plot(\n",
    "    kind=\"bar\", stacked=True, ax=ax\n",
    ")\n",
    "\n",
    "ax.set_xticks(range(bin_count), counts[\"Delta PSL\"].values, rotation=45)\n",
    "# plt.xticks([], [])\n",
    "\n",
    "# X lim in between -0.02 and 0.02\n",
    "\n",
    "ax.set_xlabel(\"Delta PSL\")\n",
    "\n",
    "ax.set_ylabel(\"Percentage\")\n",
    "plt.title(\"Delta PSL vs Result\")\n",
    "\n",
    "plt.show()"
   ]
  },
  {
   "cell_type": "code",
   "execution_count": 23,
   "metadata": {},
   "outputs": [],
   "source": [
    "from src.CTMC_Dataset import Dataset\n",
    "\n",
    "ds = Dataset(\"../SampleData/epl.xlsx\")"
   ]
  },
  {
   "cell_type": "code",
   "execution_count": 38,
   "metadata": {},
   "outputs": [
    {
     "data": {
      "text/plain": [
       "array([], shape=(275126, 0), dtype=float64)"
      ]
     },
     "execution_count": 38,
     "metadata": {},
     "output_type": "execute_result"
    }
   ],
   "source": [
    "ds.features.reshape((ds.features.shape[0], -1))"
   ]
  },
  {
   "cell_type": "code",
   "execution_count": 39,
   "metadata": {},
   "outputs": [
    {
     "data": {
      "text/plain": [
       "array([[0.08062349],\n",
       "       [0.0161247 ],\n",
       "       [0.0161247 ],\n",
       "       ...,\n",
       "       [0.        ],\n",
       "       [0.        ],\n",
       "       [0.        ]])"
      ]
     },
     "execution_count": 39,
     "metadata": {},
     "output_type": "execute_result"
    }
   ],
   "source": [
    "ds.target"
   ]
  },
  {
   "cell_type": "code",
   "execution_count": 24,
   "metadata": {},
   "outputs": [
    {
     "ename": "ValueError",
     "evalue": "all the input arrays must have same number of dimensions, but the array at index 0 has 3 dimension(s) and the array at index 1 has 2 dimension(s)",
     "output_type": "error",
     "traceback": [
      "\u001b[0;31m---------------------------------------------------------------------------\u001b[0m",
      "\u001b[0;31mValueError\u001b[0m                                Traceback (most recent call last)",
      "Cell \u001b[0;32mIn[24], line 2\u001b[0m\n\u001b[1;32m      1\u001b[0m ds_df \u001b[38;5;241m=\u001b[39m pd\u001b[38;5;241m.\u001b[39mDataFrame(\n\u001b[0;32m----> 2\u001b[0m     \u001b[43mnp\u001b[49m\u001b[38;5;241;43m.\u001b[39;49m\u001b[43mconcatenate\u001b[49m\u001b[43m(\u001b[49m\u001b[43m[\u001b[49m\u001b[43mds\u001b[49m\u001b[38;5;241;43m.\u001b[39;49m\u001b[43mfeatures\u001b[49m\u001b[43m,\u001b[49m\u001b[43m \u001b[49m\u001b[43mds\u001b[49m\u001b[38;5;241;43m.\u001b[39;49m\u001b[43mtarget\u001b[49m\u001b[43m]\u001b[49m\u001b[43m,\u001b[49m\u001b[43m \u001b[49m\u001b[43maxis\u001b[49m\u001b[38;5;241;43m=\u001b[39;49m\u001b[38;5;241;43m1\u001b[39;49m\u001b[43m)\u001b[49m,\n\u001b[1;32m      3\u001b[0m     columns\u001b[38;5;241m=\u001b[39mds\u001b[38;5;241m.\u001b[39mcolumns \u001b[38;5;241m+\u001b[39m [\u001b[38;5;124m\"\u001b[39m\u001b[38;5;124mtarget\u001b[39m\u001b[38;5;124m\"\u001b[39m],\n\u001b[1;32m      4\u001b[0m )\n",
      "\u001b[0;31mValueError\u001b[0m: all the input arrays must have same number of dimensions, but the array at index 0 has 3 dimension(s) and the array at index 1 has 2 dimension(s)"
     ]
    }
   ],
   "source": [
    "ds_df = pd.DataFrame(\n",
    "    np.concatenate([ds.features, ds.target], axis=1),\n",
    "    columns=ds.columns + [\"target\"],\n",
    ")"
   ]
  },
  {
   "cell_type": "code",
   "execution_count": 4,
   "metadata": {},
   "outputs": [],
   "source": [
    "import numpy as np"
   ]
  },
  {
   "cell_type": "code",
   "execution_count": 29,
   "metadata": {},
   "outputs": [],
   "source": []
  },
  {
   "cell_type": "code",
   "execution_count": 8,
   "metadata": {},
   "outputs": [],
   "source": [
    "import pandas as pd"
   ]
  },
  {
   "cell_type": "code",
   "execution_count": 10,
   "metadata": {},
   "outputs": [
    {
     "data": {
      "text/plain": [
       "Index(['season_id', 'match_id', 'home_team_id', 'home_team_name',\n",
       "       'away_team_id', 'away_team_name', 'id', 'event_id', 'date', 'time',\n",
       "       'period_id', 'min', 'sec', 'team_id', 'player_id', 'playerName',\n",
       "       'playerPosition', 'x', 'y', 'type', 'description', 'outcome'],\n",
       "      dtype='object')"
      ]
     },
     "execution_count": 10,
     "metadata": {},
     "output_type": "execute_result"
    }
   ],
   "source": [
    "epl.columns"
   ]
  },
  {
   "cell_type": "code",
   "execution_count": 58,
   "metadata": {},
   "outputs": [],
   "source": [
    "from src.utils_CTMC import (\n",
    "    get_ratio_gains,\n",
    "    get_ratio_loss,\n",
    "    get_ratio_shots,\n",
    "    get_ratio_passes,\n",
    ")\n",
    "from src.match_data_extraction import get_lineup_duration\n",
    "\n",
    "\n",
    "def get_features(player_1, partido):\n",
    "    # For a given player, get aggregated features for all matches played before partido\n",
    "    # home_team_id if player_1 is in home team, away_team_id if player_1 is in away team\n",
    "    team_id = partido[partido[\"player_id\"] == player_1][\"team_id\"].values[0]\n",
    "\n",
    "    player_data = {\n",
    "        \"pases/90\" : 0,\n",
    "        \"shots/90\" : 0,\n",
    "        \"losses/90\" : 0,\n",
    "        \"gains/90\" : 0,\n",
    "        \"minutes\" : 0\n",
    "    }\n",
    "\n",
    "    # Get all matches played\n",
    "    date = partido[\"date\"].values[0]\n",
    "    prev_matches = epl[epl[\"date\"] < date]\n",
    "    for partido in separar_partidos(prev_matches):\n",
    "        for equipo in separar_partido_en_equipo_pov(partido):\n",
    "            if equipo[\"team_id\"].values[0] == team_id:\n",
    "                if player_1 in get_jugadores(equipo):\n",
    "                    for lineup in separar_partido_del_equipo_en_lineups(equipo):\n",
    "                        players = get_jugadores(lineup)\n",
    "                        if player_1 in players:\n",
    "                            minutes = get_lineup_duration(lineup)\n",
    "                            if minutes == 0:\n",
    "                                continue\n",
    "\n",
    "                            player_data[\"shots/90\"] += get_ratio_shots(lineup, player_1)\n",
    "                            player_data[\"losses/90\"] += get_ratio_loss(lineup, player_1)\n",
    "                            player_data[\"gains/90\"] += get_ratio_gains(lineup, player_1)\n",
    "\n",
    "                            player_data[\"minutes\"] += minutes\n",
    "\n",
    "                            passes = lineup[\n",
    "                                (lineup[\"player_id\"] == player_1)\n",
    "                                & (lineup[\"type\"] == 1)\n",
    "                                & (lineup[\"outcome\"] == 1)\n",
    "                            ]\n",
    "                            \n",
    "                            player_data[\"pases/90\"] += passes.shape[0] / minutes\n",
    "\n",
    "    return player_data"
   ]
  },
  {
   "cell_type": "code",
   "execution_count": 31,
   "metadata": {},
   "outputs": [
    {
     "data": {
      "text/plain": [
       "20467.0"
      ]
     },
     "execution_count": 31,
     "metadata": {},
     "output_type": "execute_result"
    }
   ],
   "source": [
    "partidos = separar_partidos(epl)\n",
    "sample_partido = partidos[np.random.randint(len(partidos))]\n",
    "\n",
    "sample_player = get_jugadores(sample_partido)[np.random.randint(11)]\n",
    "sample_player"
   ]
  },
  {
   "cell_type": "code",
   "execution_count": 59,
   "metadata": {},
   "outputs": [
    {
     "data": {
      "text/plain": [
       "{'pases/90': 14.891504768534878,\n",
       " 'shots/90': 2.958271969613543,\n",
       " 'losses/90': np.float64(23.547398788803),\n",
       " 'gains/90': np.float64(16.100066791621366),\n",
       " 'minutes': 3395.733333333333}"
      ]
     },
     "execution_count": 59,
     "metadata": {},
     "output_type": "execute_result"
    }
   ],
   "source": [
    "get_features(sample_player, sample_partido)"
   ]
  },
  {
   "cell_type": "code",
   "execution_count": 32,
   "metadata": {},
   "outputs": [
    {
     "data": {
      "text/plain": [
       "np.datetime64('2013-05-04T00:00:00.000000000')"
      ]
     },
     "execution_count": 32,
     "metadata": {},
     "output_type": "execute_result"
    }
   ],
   "source": [
    "sample_partido[\"date\"].values[0]  # '23Sep2012'"
   ]
  },
  {
   "cell_type": "code",
   "execution_count": 67,
   "metadata": {},
   "outputs": [
    {
     "data": {
      "text/plain": [
       "Index(['season_id', 'match_id', 'home_team_id', 'home_team_name',\n",
       "       'away_team_id', 'away_team_name', 'id', 'event_id', 'date', 'time',\n",
       "       'period_id', 'min', 'sec', 'team_id', 'player_id', 'playerName',\n",
       "       'playerPosition', 'x', 'y', 'type', 'description', 'outcome'],\n",
       "      dtype='object')"
      ]
     },
     "execution_count": 67,
     "metadata": {},
     "output_type": "execute_result"
    }
   ],
   "source": [
    "epl.columns"
   ]
  },
  {
   "cell_type": "code",
   "execution_count": 69,
   "metadata": {},
   "outputs": [],
   "source": [
    "from tqdm import tqdm"
   ]
  },
  {
   "cell_type": "code",
   "execution_count": 89,
   "metadata": {},
   "outputs": [
    {
     "name": "stderr",
     "output_type": "stream",
     "text": [
      "Match ID: 442378 Team ID: 111 Player 1: 125510.0 Player 2: 125510.0: 100%|██████████| 380/380 [1:53:22<00:00, 17.90s/it]\n"
     ]
    }
   ],
   "source": [
    "from src.event_processing import (\n",
    "    separar_partido_del_equipo_en_lineups,\n",
    "    separar_partido_en_equipo_pov,\n",
    "    separar_partidos,\n",
    ")\n",
    "from src.match_data_extraction import get_jugadores\n",
    "from src.utils_CTMC import get_ratio_passes\n",
    "\n",
    "features = []\n",
    "target = []\n",
    "\n",
    "cache = {}\n",
    "\n",
    "# if partido id in cache, get data from cache\n",
    "iterator = tqdm(separar_partidos(epl))\n",
    "for partido in iterator:\n",
    "    partido_id = partido[\"match_id\"].values[0]\n",
    "    for equipo in separar_partido_en_equipo_pov(partido):\n",
    "        team_id = equipo['team_id'].values[0]\n",
    "        for lineup in separar_partido_del_equipo_en_lineups(equipo):\n",
    "            players = get_jugadores(lineup)\n",
    "\n",
    "            for player_1 in players:\n",
    "                player_1_key = (partido_id, player_1)\n",
    "                if player_1_key not in cache:\n",
    "                    player_1_vec = get_features(player_1, partido)\n",
    "                    cache[player_1_key] = player_1_vec\n",
    "                else:\n",
    "                    player_1_vec = cache[player_1_key]\n",
    "\n",
    "                for player_2 in players:\n",
    "\n",
    "                    iterator.set_description(f\"Match ID: {partido_id} Team ID: {team_id} Player 1: {player_1} Player 2: {player_2}\")\n",
    "\n",
    "                    if player_1 != player_2:\n",
    "                        player_2_key = (partido_id, player_2)\n",
    "                        if player_2_key not in cache:\n",
    "                            player_2_vec = get_features(player_2, partido)\n",
    "                            cache[player_2_key] = player_2_vec\n",
    "                        else:\n",
    "                            player_2_vec = cache[player_2_key]\n",
    "\n",
    "                        features.append(\n",
    "                            [\n",
    "                                player_1,\n",
    "                                player_1_vec[\"pases/90\"],\n",
    "                                player_1_vec[\"shots/90\"],\n",
    "                                player_1_vec[\"losses/90\"],\n",
    "                                player_1_vec[\"gains/90\"],\n",
    "                                player_1_vec[\"minutes\"],\n",
    "                                player_2,\n",
    "                                player_2_vec[\"pases/90\"],\n",
    "                                player_2_vec[\"shots/90\"],\n",
    "                                player_2_vec[\"losses/90\"],\n",
    "                                player_2_vec[\"gains/90\"],\n",
    "                                player_2_vec[\"minutes\"],\n",
    "                                partido_id,\n",
    "                            ]\n",
    "                        )\n",
    "                        target.append(\n",
    "                            [\n",
    "                                get_ratio_passes(lineup, player_1, player_2),\n",
    "                            ]\n",
    "                        )\n",
    "\n",
    "columns = [\n",
    "    \"player_1\",\n",
    "    \"pases/90_1\",\n",
    "    \"shots/90_1\",\n",
    "    \"losses/90_1\",\n",
    "    \"gains/90_1\",\n",
    "    \"minutes_1\",\n",
    "    \"player_2\",\n",
    "    \"pases/90_2\",\n",
    "    \"shots/90_2\",\n",
    "    \"losses/90_2\",\n",
    "    \"gains/90_2\",\n",
    "    \"minutes_2\",\n",
    "    \"partido_id\",\n",
    "]\n",
    "features = np.array(features)\n",
    "target = np.array(target)"
   ]
  },
  {
   "cell_type": "code",
   "execution_count": 90,
   "metadata": {},
   "outputs": [],
   "source": [
    "ds = pd.DataFrame(\n",
    "    np.concatenate([features, target], axis=1), columns=columns + [\"target\"]\n",
    ")\n",
    "\n",
    "# save as csv\n",
    "ds.to_csv(\"dataset.csv\", index=False)"
   ]
  },
  {
   "cell_type": "code",
   "execution_count": 95,
   "metadata": {},
   "outputs": [],
   "source": [
    "def get_match_data(match_id):\n",
    "    match_events = epl[epl[\"match_id\"] == match_id]\n",
    "    date = match_events[\"date\"].values[0]\n",
    "    # home_team = epl[epl[\"match_id\"] == match_id][\"home_team_id\"].values[0]\n",
    "    # away_team = epl[epl[\"match_id\"] == match_id][\"away_team_id\"].values[0]\n",
    "    # home_team_id = epl[epl[\"match_id\"] == match_id][\"home_team_id\"].values[0]\n",
    "    # away_team_id = epl[epl[\"match_id\"] == match_id][\"away_team_id\"].values[0]\n",
    "\n",
    "    # passes = match_events[(match_events[\"type\"] == 1) & (match_events[\"outcome\"] == 1)]\n",
    "    # shots = match_events[(match_events[\"type\"].isin([15, 16])) & (match_events[\"outcome\"] == 1)]\n",
    "\n",
    "    return date\n",
    "\n",
    "ds[\"date\"] = ds[\"partido_id\"].apply(get_match_data)"
   ]
  },
  {
   "cell_type": "code",
   "execution_count": 96,
   "metadata": {},
   "outputs": [
    {
     "data": {
      "text/html": [
       "<div>\n",
       "<style scoped>\n",
       "    .dataframe tbody tr th:only-of-type {\n",
       "        vertical-align: middle;\n",
       "    }\n",
       "\n",
       "    .dataframe tbody tr th {\n",
       "        vertical-align: top;\n",
       "    }\n",
       "\n",
       "    .dataframe thead th {\n",
       "        text-align: right;\n",
       "    }\n",
       "</style>\n",
       "<table border=\"1\" class=\"dataframe\">\n",
       "  <thead>\n",
       "    <tr style=\"text-align: right;\">\n",
       "      <th></th>\n",
       "      <th>player_1</th>\n",
       "      <th>pases/90_1</th>\n",
       "      <th>shots/90_1</th>\n",
       "      <th>losses/90_1</th>\n",
       "      <th>gains/90_1</th>\n",
       "      <th>minutes_1</th>\n",
       "      <th>player_2</th>\n",
       "      <th>pases/90_2</th>\n",
       "      <th>shots/90_2</th>\n",
       "      <th>losses/90_2</th>\n",
       "      <th>gains/90_2</th>\n",
       "      <th>minutes_2</th>\n",
       "      <th>partido_id</th>\n",
       "      <th>target</th>\n",
       "      <th>date</th>\n",
       "    </tr>\n",
       "  </thead>\n",
       "  <tbody>\n",
       "    <tr>\n",
       "      <th>0</th>\n",
       "      <td>17733.0</td>\n",
       "      <td>0.000000</td>\n",
       "      <td>0.000000</td>\n",
       "      <td>0.000000</td>\n",
       "      <td>0.000000</td>\n",
       "      <td>0.000000</td>\n",
       "      <td>19524.0</td>\n",
       "      <td>0.000000</td>\n",
       "      <td>0.000000</td>\n",
       "      <td>0.000000</td>\n",
       "      <td>0.000000</td>\n",
       "      <td>0.000000</td>\n",
       "      <td>441999.0</td>\n",
       "      <td>0.080623</td>\n",
       "      <td>2012-08-18</td>\n",
       "    </tr>\n",
       "    <tr>\n",
       "      <th>1</th>\n",
       "      <td>17733.0</td>\n",
       "      <td>0.000000</td>\n",
       "      <td>0.000000</td>\n",
       "      <td>0.000000</td>\n",
       "      <td>0.000000</td>\n",
       "      <td>0.000000</td>\n",
       "      <td>15943.0</td>\n",
       "      <td>0.000000</td>\n",
       "      <td>0.000000</td>\n",
       "      <td>0.000000</td>\n",
       "      <td>0.000000</td>\n",
       "      <td>0.000000</td>\n",
       "      <td>441999.0</td>\n",
       "      <td>0.016125</td>\n",
       "      <td>2012-08-18</td>\n",
       "    </tr>\n",
       "    <tr>\n",
       "      <th>2</th>\n",
       "      <td>17733.0</td>\n",
       "      <td>0.000000</td>\n",
       "      <td>0.000000</td>\n",
       "      <td>0.000000</td>\n",
       "      <td>0.000000</td>\n",
       "      <td>0.000000</td>\n",
       "      <td>20467.0</td>\n",
       "      <td>0.000000</td>\n",
       "      <td>0.000000</td>\n",
       "      <td>0.000000</td>\n",
       "      <td>0.000000</td>\n",
       "      <td>0.000000</td>\n",
       "      <td>441999.0</td>\n",
       "      <td>0.016125</td>\n",
       "      <td>2012-08-18</td>\n",
       "    </tr>\n",
       "    <tr>\n",
       "      <th>3</th>\n",
       "      <td>17733.0</td>\n",
       "      <td>0.000000</td>\n",
       "      <td>0.000000</td>\n",
       "      <td>0.000000</td>\n",
       "      <td>0.000000</td>\n",
       "      <td>0.000000</td>\n",
       "      <td>80254.0</td>\n",
       "      <td>0.000000</td>\n",
       "      <td>0.000000</td>\n",
       "      <td>0.000000</td>\n",
       "      <td>0.000000</td>\n",
       "      <td>0.000000</td>\n",
       "      <td>441999.0</td>\n",
       "      <td>0.016125</td>\n",
       "      <td>2012-08-18</td>\n",
       "    </tr>\n",
       "    <tr>\n",
       "      <th>4</th>\n",
       "      <td>17733.0</td>\n",
       "      <td>0.000000</td>\n",
       "      <td>0.000000</td>\n",
       "      <td>0.000000</td>\n",
       "      <td>0.000000</td>\n",
       "      <td>0.000000</td>\n",
       "      <td>8758.0</td>\n",
       "      <td>0.000000</td>\n",
       "      <td>0.000000</td>\n",
       "      <td>0.000000</td>\n",
       "      <td>0.000000</td>\n",
       "      <td>0.000000</td>\n",
       "      <td>441999.0</td>\n",
       "      <td>0.032249</td>\n",
       "      <td>2012-08-18</td>\n",
       "    </tr>\n",
       "    <tr>\n",
       "      <th>...</th>\n",
       "      <td>...</td>\n",
       "      <td>...</td>\n",
       "      <td>...</td>\n",
       "      <td>...</td>\n",
       "      <td>...</td>\n",
       "      <td>...</td>\n",
       "      <td>...</td>\n",
       "      <td>...</td>\n",
       "      <td>...</td>\n",
       "      <td>...</td>\n",
       "      <td>...</td>\n",
       "      <td>...</td>\n",
       "      <td>...</td>\n",
       "      <td>...</td>\n",
       "      <td>...</td>\n",
       "    </tr>\n",
       "    <tr>\n",
       "      <th>275121</th>\n",
       "      <td>125510.0</td>\n",
       "      <td>0.096057</td>\n",
       "      <td>0.217421</td>\n",
       "      <td>0.301946</td>\n",
       "      <td>0.302615</td>\n",
       "      <td>284.033333</td>\n",
       "      <td>28491.0</td>\n",
       "      <td>13.305668</td>\n",
       "      <td>0.040368</td>\n",
       "      <td>9.434056</td>\n",
       "      <td>13.054697</td>\n",
       "      <td>4749.983333</td>\n",
       "      <td>442378.0</td>\n",
       "      <td>0.000000</td>\n",
       "      <td>2013-05-19</td>\n",
       "    </tr>\n",
       "    <tr>\n",
       "      <th>275122</th>\n",
       "      <td>125510.0</td>\n",
       "      <td>0.096057</td>\n",
       "      <td>0.217421</td>\n",
       "      <td>0.301946</td>\n",
       "      <td>0.302615</td>\n",
       "      <td>284.033333</td>\n",
       "      <td>74235.0</td>\n",
       "      <td>1.175434</td>\n",
       "      <td>0.000000</td>\n",
       "      <td>1.290463</td>\n",
       "      <td>1.417895</td>\n",
       "      <td>290.300000</td>\n",
       "      <td>442378.0</td>\n",
       "      <td>0.000000</td>\n",
       "      <td>2013-05-19</td>\n",
       "    </tr>\n",
       "    <tr>\n",
       "      <th>275123</th>\n",
       "      <td>125510.0</td>\n",
       "      <td>0.096057</td>\n",
       "      <td>0.217421</td>\n",
       "      <td>0.301946</td>\n",
       "      <td>0.302615</td>\n",
       "      <td>284.033333</td>\n",
       "      <td>106458.0</td>\n",
       "      <td>0.000000</td>\n",
       "      <td>0.000000</td>\n",
       "      <td>0.000000</td>\n",
       "      <td>0.000000</td>\n",
       "      <td>0.000000</td>\n",
       "      <td>442378.0</td>\n",
       "      <td>0.000000</td>\n",
       "      <td>2013-05-19</td>\n",
       "    </tr>\n",
       "    <tr>\n",
       "      <th>275124</th>\n",
       "      <td>125510.0</td>\n",
       "      <td>0.096057</td>\n",
       "      <td>0.217421</td>\n",
       "      <td>0.301946</td>\n",
       "      <td>0.302615</td>\n",
       "      <td>284.033333</td>\n",
       "      <td>76227.0</td>\n",
       "      <td>0.000000</td>\n",
       "      <td>0.000000</td>\n",
       "      <td>0.000000</td>\n",
       "      <td>0.000000</td>\n",
       "      <td>0.000000</td>\n",
       "      <td>442378.0</td>\n",
       "      <td>0.000000</td>\n",
       "      <td>2013-05-19</td>\n",
       "    </tr>\n",
       "    <tr>\n",
       "      <th>275125</th>\n",
       "      <td>125510.0</td>\n",
       "      <td>0.096057</td>\n",
       "      <td>0.217421</td>\n",
       "      <td>0.301946</td>\n",
       "      <td>0.302615</td>\n",
       "      <td>284.033333</td>\n",
       "      <td>50471.0</td>\n",
       "      <td>40.282626</td>\n",
       "      <td>0.648384</td>\n",
       "      <td>21.631830</td>\n",
       "      <td>22.951403</td>\n",
       "      <td>4694.183333</td>\n",
       "      <td>442378.0</td>\n",
       "      <td>0.000000</td>\n",
       "      <td>2013-05-19</td>\n",
       "    </tr>\n",
       "  </tbody>\n",
       "</table>\n",
       "<p>275126 rows × 15 columns</p>\n",
       "</div>"
      ],
      "text/plain": [
       "        player_1  pases/90_1  shots/90_1  losses/90_1  gains/90_1   minutes_1  \\\n",
       "0        17733.0    0.000000    0.000000     0.000000    0.000000    0.000000   \n",
       "1        17733.0    0.000000    0.000000     0.000000    0.000000    0.000000   \n",
       "2        17733.0    0.000000    0.000000     0.000000    0.000000    0.000000   \n",
       "3        17733.0    0.000000    0.000000     0.000000    0.000000    0.000000   \n",
       "4        17733.0    0.000000    0.000000     0.000000    0.000000    0.000000   \n",
       "...          ...         ...         ...          ...         ...         ...   \n",
       "275121  125510.0    0.096057    0.217421     0.301946    0.302615  284.033333   \n",
       "275122  125510.0    0.096057    0.217421     0.301946    0.302615  284.033333   \n",
       "275123  125510.0    0.096057    0.217421     0.301946    0.302615  284.033333   \n",
       "275124  125510.0    0.096057    0.217421     0.301946    0.302615  284.033333   \n",
       "275125  125510.0    0.096057    0.217421     0.301946    0.302615  284.033333   \n",
       "\n",
       "        player_2  pases/90_2  shots/90_2  losses/90_2  gains/90_2  \\\n",
       "0        19524.0    0.000000    0.000000     0.000000    0.000000   \n",
       "1        15943.0    0.000000    0.000000     0.000000    0.000000   \n",
       "2        20467.0    0.000000    0.000000     0.000000    0.000000   \n",
       "3        80254.0    0.000000    0.000000     0.000000    0.000000   \n",
       "4         8758.0    0.000000    0.000000     0.000000    0.000000   \n",
       "...          ...         ...         ...          ...         ...   \n",
       "275121   28491.0   13.305668    0.040368     9.434056   13.054697   \n",
       "275122   74235.0    1.175434    0.000000     1.290463    1.417895   \n",
       "275123  106458.0    0.000000    0.000000     0.000000    0.000000   \n",
       "275124   76227.0    0.000000    0.000000     0.000000    0.000000   \n",
       "275125   50471.0   40.282626    0.648384    21.631830   22.951403   \n",
       "\n",
       "          minutes_2  partido_id    target       date  \n",
       "0          0.000000    441999.0  0.080623 2012-08-18  \n",
       "1          0.000000    441999.0  0.016125 2012-08-18  \n",
       "2          0.000000    441999.0  0.016125 2012-08-18  \n",
       "3          0.000000    441999.0  0.016125 2012-08-18  \n",
       "4          0.000000    441999.0  0.032249 2012-08-18  \n",
       "...             ...         ...       ...        ...  \n",
       "275121  4749.983333    442378.0  0.000000 2013-05-19  \n",
       "275122   290.300000    442378.0  0.000000 2013-05-19  \n",
       "275123     0.000000    442378.0  0.000000 2013-05-19  \n",
       "275124     0.000000    442378.0  0.000000 2013-05-19  \n",
       "275125  4694.183333    442378.0  0.000000 2013-05-19  \n",
       "\n",
       "[275126 rows x 15 columns]"
      ]
     },
     "execution_count": 96,
     "metadata": {},
     "output_type": "execute_result"
    }
   ],
   "source": [
    "ds"
   ]
  },
  {
   "cell_type": "code",
   "execution_count": 97,
   "metadata": {},
   "outputs": [],
   "source": [
    "ds.to_csv(\"dataset.csv\", index=False)"
   ]
  },
  {
   "cell_type": "code",
   "execution_count": 1,
   "metadata": {},
   "outputs": [
    {
     "ename": "NameError",
     "evalue": "name 'pd' is not defined",
     "output_type": "error",
     "traceback": [
      "\u001b[0;31m---------------------------------------------------------------------------\u001b[0m",
      "\u001b[0;31mNameError\u001b[0m                                 Traceback (most recent call last)",
      "Cell \u001b[0;32mIn[1], line 1\u001b[0m\n\u001b[0;32m----> 1\u001b[0m ds \u001b[38;5;241m=\u001b[39m \u001b[43mpd\u001b[49m\u001b[38;5;241m.\u001b[39mread_csv(\u001b[38;5;124m\"\u001b[39m\u001b[38;5;124mdataset.csv\u001b[39m\u001b[38;5;124m\"\u001b[39m)\n",
      "\u001b[0;31mNameError\u001b[0m: name 'pd' is not defined"
     ]
    }
   ],
   "source": [
    "ds = pd.read_csv(\"dataset.csv\")"
   ]
  },
  {
   "cell_type": "code",
   "execution_count": 98,
   "metadata": {},
   "outputs": [
    {
     "data": {
      "text/html": [
       "<div>\n",
       "<style scoped>\n",
       "    .dataframe tbody tr th:only-of-type {\n",
       "        vertical-align: middle;\n",
       "    }\n",
       "\n",
       "    .dataframe tbody tr th {\n",
       "        vertical-align: top;\n",
       "    }\n",
       "\n",
       "    .dataframe thead th {\n",
       "        text-align: right;\n",
       "    }\n",
       "</style>\n",
       "<table border=\"1\" class=\"dataframe\">\n",
       "  <thead>\n",
       "    <tr style=\"text-align: right;\">\n",
       "      <th></th>\n",
       "      <th>player_1</th>\n",
       "      <th>pases/90_1</th>\n",
       "      <th>shots/90_1</th>\n",
       "      <th>losses/90_1</th>\n",
       "      <th>gains/90_1</th>\n",
       "      <th>minutes_1</th>\n",
       "      <th>player_2</th>\n",
       "      <th>pases/90_2</th>\n",
       "      <th>shots/90_2</th>\n",
       "      <th>losses/90_2</th>\n",
       "      <th>gains/90_2</th>\n",
       "      <th>minutes_2</th>\n",
       "      <th>partido_id</th>\n",
       "      <th>target</th>\n",
       "      <th>date</th>\n",
       "    </tr>\n",
       "  </thead>\n",
       "  <tbody>\n",
       "    <tr>\n",
       "      <th>0</th>\n",
       "      <td>17733.0</td>\n",
       "      <td>0.000000</td>\n",
       "      <td>0.000000</td>\n",
       "      <td>0.00000</td>\n",
       "      <td>0.000000</td>\n",
       "      <td>0.000000</td>\n",
       "      <td>19524.0</td>\n",
       "      <td>0.000000</td>\n",
       "      <td>0.000000</td>\n",
       "      <td>0.000000</td>\n",
       "      <td>0.000000</td>\n",
       "      <td>0.000000</td>\n",
       "      <td>441999.0</td>\n",
       "      <td>0.080623</td>\n",
       "      <td>2012-08-18</td>\n",
       "    </tr>\n",
       "    <tr>\n",
       "      <th>1</th>\n",
       "      <td>17733.0</td>\n",
       "      <td>0.000000</td>\n",
       "      <td>0.000000</td>\n",
       "      <td>0.00000</td>\n",
       "      <td>0.000000</td>\n",
       "      <td>0.000000</td>\n",
       "      <td>15943.0</td>\n",
       "      <td>0.000000</td>\n",
       "      <td>0.000000</td>\n",
       "      <td>0.000000</td>\n",
       "      <td>0.000000</td>\n",
       "      <td>0.000000</td>\n",
       "      <td>441999.0</td>\n",
       "      <td>0.016125</td>\n",
       "      <td>2012-08-18</td>\n",
       "    </tr>\n",
       "    <tr>\n",
       "      <th>2</th>\n",
       "      <td>17733.0</td>\n",
       "      <td>0.000000</td>\n",
       "      <td>0.000000</td>\n",
       "      <td>0.00000</td>\n",
       "      <td>0.000000</td>\n",
       "      <td>0.000000</td>\n",
       "      <td>20467.0</td>\n",
       "      <td>0.000000</td>\n",
       "      <td>0.000000</td>\n",
       "      <td>0.000000</td>\n",
       "      <td>0.000000</td>\n",
       "      <td>0.000000</td>\n",
       "      <td>441999.0</td>\n",
       "      <td>0.016125</td>\n",
       "      <td>2012-08-18</td>\n",
       "    </tr>\n",
       "    <tr>\n",
       "      <th>3</th>\n",
       "      <td>17733.0</td>\n",
       "      <td>0.000000</td>\n",
       "      <td>0.000000</td>\n",
       "      <td>0.00000</td>\n",
       "      <td>0.000000</td>\n",
       "      <td>0.000000</td>\n",
       "      <td>80254.0</td>\n",
       "      <td>0.000000</td>\n",
       "      <td>0.000000</td>\n",
       "      <td>0.000000</td>\n",
       "      <td>0.000000</td>\n",
       "      <td>0.000000</td>\n",
       "      <td>441999.0</td>\n",
       "      <td>0.016125</td>\n",
       "      <td>2012-08-18</td>\n",
       "    </tr>\n",
       "    <tr>\n",
       "      <th>4</th>\n",
       "      <td>17733.0</td>\n",
       "      <td>0.000000</td>\n",
       "      <td>0.000000</td>\n",
       "      <td>0.00000</td>\n",
       "      <td>0.000000</td>\n",
       "      <td>0.000000</td>\n",
       "      <td>8758.0</td>\n",
       "      <td>0.000000</td>\n",
       "      <td>0.000000</td>\n",
       "      <td>0.000000</td>\n",
       "      <td>0.000000</td>\n",
       "      <td>0.000000</td>\n",
       "      <td>441999.0</td>\n",
       "      <td>0.032249</td>\n",
       "      <td>2012-08-18</td>\n",
       "    </tr>\n",
       "    <tr>\n",
       "      <th>...</th>\n",
       "      <td>...</td>\n",
       "      <td>...</td>\n",
       "      <td>...</td>\n",
       "      <td>...</td>\n",
       "      <td>...</td>\n",
       "      <td>...</td>\n",
       "      <td>...</td>\n",
       "      <td>...</td>\n",
       "      <td>...</td>\n",
       "      <td>...</td>\n",
       "      <td>...</td>\n",
       "      <td>...</td>\n",
       "      <td>...</td>\n",
       "      <td>...</td>\n",
       "      <td>...</td>\n",
       "    </tr>\n",
       "    <tr>\n",
       "      <th>275088</th>\n",
       "      <td>106458.0</td>\n",
       "      <td>0.000000</td>\n",
       "      <td>0.000000</td>\n",
       "      <td>0.00000</td>\n",
       "      <td>0.000000</td>\n",
       "      <td>0.000000</td>\n",
       "      <td>16210.0</td>\n",
       "      <td>11.730740</td>\n",
       "      <td>0.125619</td>\n",
       "      <td>9.055907</td>\n",
       "      <td>11.925083</td>\n",
       "      <td>2265.200000</td>\n",
       "      <td>442378.0</td>\n",
       "      <td>0.010751</td>\n",
       "      <td>2013-05-19</td>\n",
       "    </tr>\n",
       "    <tr>\n",
       "      <th>275092</th>\n",
       "      <td>106458.0</td>\n",
       "      <td>0.000000</td>\n",
       "      <td>0.000000</td>\n",
       "      <td>0.00000</td>\n",
       "      <td>0.000000</td>\n",
       "      <td>0.000000</td>\n",
       "      <td>74235.0</td>\n",
       "      <td>1.175434</td>\n",
       "      <td>0.000000</td>\n",
       "      <td>1.290463</td>\n",
       "      <td>1.417895</td>\n",
       "      <td>290.300000</td>\n",
       "      <td>442378.0</td>\n",
       "      <td>0.010751</td>\n",
       "      <td>2013-05-19</td>\n",
       "    </tr>\n",
       "    <tr>\n",
       "      <th>275100</th>\n",
       "      <td>76227.0</td>\n",
       "      <td>0.000000</td>\n",
       "      <td>0.000000</td>\n",
       "      <td>0.00000</td>\n",
       "      <td>0.000000</td>\n",
       "      <td>0.000000</td>\n",
       "      <td>50105.0</td>\n",
       "      <td>6.379166</td>\n",
       "      <td>0.015839</td>\n",
       "      <td>5.568527</td>\n",
       "      <td>4.993918</td>\n",
       "      <td>1268.283333</td>\n",
       "      <td>442378.0</td>\n",
       "      <td>0.010751</td>\n",
       "      <td>2013-05-19</td>\n",
       "    </tr>\n",
       "    <tr>\n",
       "      <th>275103</th>\n",
       "      <td>76227.0</td>\n",
       "      <td>0.000000</td>\n",
       "      <td>0.000000</td>\n",
       "      <td>0.00000</td>\n",
       "      <td>0.000000</td>\n",
       "      <td>0.000000</td>\n",
       "      <td>106458.0</td>\n",
       "      <td>0.000000</td>\n",
       "      <td>0.000000</td>\n",
       "      <td>0.000000</td>\n",
       "      <td>0.000000</td>\n",
       "      <td>0.000000</td>\n",
       "      <td>442378.0</td>\n",
       "      <td>0.010751</td>\n",
       "      <td>2013-05-19</td>\n",
       "    </tr>\n",
       "    <tr>\n",
       "      <th>275113</th>\n",
       "      <td>50471.0</td>\n",
       "      <td>40.282626</td>\n",
       "      <td>0.648384</td>\n",
       "      <td>21.63183</td>\n",
       "      <td>22.951403</td>\n",
       "      <td>4694.183333</td>\n",
       "      <td>106458.0</td>\n",
       "      <td>0.000000</td>\n",
       "      <td>0.000000</td>\n",
       "      <td>0.000000</td>\n",
       "      <td>0.000000</td>\n",
       "      <td>0.000000</td>\n",
       "      <td>442378.0</td>\n",
       "      <td>0.010751</td>\n",
       "      <td>2013-05-19</td>\n",
       "    </tr>\n",
       "  </tbody>\n",
       "</table>\n",
       "<p>115998 rows × 15 columns</p>\n",
       "</div>"
      ],
      "text/plain": [
       "        player_1  pases/90_1  shots/90_1  losses/90_1  gains/90_1  \\\n",
       "0        17733.0    0.000000    0.000000      0.00000    0.000000   \n",
       "1        17733.0    0.000000    0.000000      0.00000    0.000000   \n",
       "2        17733.0    0.000000    0.000000      0.00000    0.000000   \n",
       "3        17733.0    0.000000    0.000000      0.00000    0.000000   \n",
       "4        17733.0    0.000000    0.000000      0.00000    0.000000   \n",
       "...          ...         ...         ...          ...         ...   \n",
       "275088  106458.0    0.000000    0.000000      0.00000    0.000000   \n",
       "275092  106458.0    0.000000    0.000000      0.00000    0.000000   \n",
       "275100   76227.0    0.000000    0.000000      0.00000    0.000000   \n",
       "275103   76227.0    0.000000    0.000000      0.00000    0.000000   \n",
       "275113   50471.0   40.282626    0.648384     21.63183   22.951403   \n",
       "\n",
       "          minutes_1  player_2  pases/90_2  shots/90_2  losses/90_2  \\\n",
       "0          0.000000   19524.0    0.000000    0.000000     0.000000   \n",
       "1          0.000000   15943.0    0.000000    0.000000     0.000000   \n",
       "2          0.000000   20467.0    0.000000    0.000000     0.000000   \n",
       "3          0.000000   80254.0    0.000000    0.000000     0.000000   \n",
       "4          0.000000    8758.0    0.000000    0.000000     0.000000   \n",
       "...             ...       ...         ...         ...          ...   \n",
       "275088     0.000000   16210.0   11.730740    0.125619     9.055907   \n",
       "275092     0.000000   74235.0    1.175434    0.000000     1.290463   \n",
       "275100     0.000000   50105.0    6.379166    0.015839     5.568527   \n",
       "275103     0.000000  106458.0    0.000000    0.000000     0.000000   \n",
       "275113  4694.183333  106458.0    0.000000    0.000000     0.000000   \n",
       "\n",
       "        gains/90_2    minutes_2  partido_id    target       date  \n",
       "0         0.000000     0.000000    441999.0  0.080623 2012-08-18  \n",
       "1         0.000000     0.000000    441999.0  0.016125 2012-08-18  \n",
       "2         0.000000     0.000000    441999.0  0.016125 2012-08-18  \n",
       "3         0.000000     0.000000    441999.0  0.016125 2012-08-18  \n",
       "4         0.000000     0.000000    441999.0  0.032249 2012-08-18  \n",
       "...            ...          ...         ...       ...        ...  \n",
       "275088   11.925083  2265.200000    442378.0  0.010751 2013-05-19  \n",
       "275092    1.417895   290.300000    442378.0  0.010751 2013-05-19  \n",
       "275100    4.993918  1268.283333    442378.0  0.010751 2013-05-19  \n",
       "275103    0.000000     0.000000    442378.0  0.010751 2013-05-19  \n",
       "275113    0.000000     0.000000    442378.0  0.010751 2013-05-19  \n",
       "\n",
       "[115998 rows x 15 columns]"
      ]
     },
     "execution_count": 98,
     "metadata": {},
     "output_type": "execute_result"
    }
   ],
   "source": [
    "ds = ds[ds[\"target\"] != 0]\n",
    "ds"
   ]
  },
  {
   "cell_type": "code",
   "execution_count": 81,
   "metadata": {},
   "outputs": [],
   "source": [
    "import xgboost as xgb"
   ]
  },
  {
   "cell_type": "code",
   "execution_count": 113,
   "metadata": {},
   "outputs": [
    {
     "data": {
      "text/plain": [
       "(Timestamp('2013-02-24 14:21:30.714119313'),\n",
       " Timestamp('2013-05-19 00:00:00'),\n",
       " Timestamp('2012-08-18 00:00:00'),\n",
       " Timestamp('2013-01-02 12:07:47.759788544'),\n",
       " Timedelta('79 days 15:20:34.431496154'))"
      ]
     },
     "execution_count": 113,
     "metadata": {},
     "output_type": "execute_result"
    }
   ],
   "source": [
    "dates = ds[\"date\"]\n",
    "date_2_3 = dates.mean() + 2/3 * dates.std()\n",
    "date_2_3, dates.max(), dates.min(), dates.mean(), dates.std()"
   ]
  },
  {
   "cell_type": "code",
   "execution_count": 116,
   "metadata": {},
   "outputs": [
    {
     "data": {
      "text/plain": [
       "(82550, 33448, 0.7116502008655322, 0.28834979913446784)"
      ]
     },
     "execution_count": 116,
     "metadata": {},
     "output_type": "execute_result"
    },
    {
     "data": {
      "image/png": "[encoded data removed]",
      "text/plain": [
       "<Figure size 2000x1000 with 1 Axes>"
      ]
     },
     "metadata": {},
     "output_type": "display_data"
    }
   ],
   "source": [
    "fig, ax = plt.subplots(figsize=(20, 10))\n",
    "dates.hist(bins=100, ax=ax)\n",
    "\n",
    "# Plot lines for date_2_3, dates.max(), dates.min(), dates.mean()\n",
    "ax.axvline(date_2_3, color=\"r\", linestyle=\"--\", label=\"2/3\")\n",
    "ax.axvline(dates.max(), color=\"g\", linestyle=\"--\", label=\"max\")\n",
    "ax.axvline(dates.min(), color=\"b\", linestyle=\"--\", label=\"min\")\n",
    "ax.axvline(dates.mean(), color=\"y\", linestyle=\"--\", label=\"mean\")\n",
    "\n",
    "ax.legend()\n",
    "\n",
    "left_c = ds[ds[\"date\"] < date_2_3].shape[0]\n",
    "right_c = ds[ds[\"date\"] >= date_2_3].shape[0]\n",
    "\n",
    "left_c, right_c, left_c / (right_c + left_c), right_c / (right_c + left_c)"
   ]
  },
  {
   "cell_type": "code",
   "execution_count": 117,
   "metadata": {},
   "outputs": [],
   "source": [
    "# Select pairs of player_1 and player_2 that appear in the dataset\n",
    "# Keep them in a test set\n",
    "\n",
    "pairs = ds[[\"player_1\", \"player_2\"]].drop_duplicates()\n",
    "sample_pairs = pairs.sample(100)\n",
    "\n",
    "test = ds[ds[\"player_1\"].isin(sample_pairs[\"player_1\"]) & ds[\"player_2\"].isin(sample_pairs[\"player_2\"])]\n",
    "train = ds[~ds[\"player_1\"].isin(sample_pairs[\"player_1\"]) | ~ds[\"player_2\"].isin(sample_pairs[\"player_2\"]) | ~ds[\"player_1\"].isin(sample_pairs[\"player_2\"]) | ~ds[\"player_2\"].isin(sample_pairs[\"player_1\"])]\n",
    "\n",
    "train_left = train[train[\"date\"] < date_2_3]\n",
    "test_right = test[test[\"date\"] >= date_2_3]"
   ]
  },
  {
   "cell_type": "code",
   "execution_count": 118,
   "metadata": {},
   "outputs": [
    {
     "data": {
      "text/plain": [
       "(-0.07232076012826782, np.float64(0.007969793757078769))"
      ]
     },
     "execution_count": 118,
     "metadata": {},
     "output_type": "execute_result"
    }
   ],
   "source": [
    "xgb_model = xgb.XGBRegressor()\n",
    "\n",
    "X_train = train_left.drop(columns=[\"player_1\", \"player_2\", \"target\", \"date\", \"partido_id\"])\n",
    "y_train = train_left[\"target\"]\n",
    "\n",
    "X_test = test_right.drop(columns=[\"player_1\", \"player_2\", \"target\", \"date\", \"partido_id\"])\n",
    "y_test = test_right[\"target\"]\n",
    "\n",
    "xgb_model.fit(X_train, y_train)\n",
    "\n",
    "sc = xgb_model.score(X_test, y_test)\n",
    "\n",
    "from sklearn.metrics import mean_squared_error\n",
    "\n",
    "mse = mean_squared_error(y_test, xgb_model.predict(X_test))\n",
    "\n",
    "sc, mse"
   ]
  },
  {
   "cell_type": "code",
   "execution_count": 119,
   "metadata": {},
   "outputs": [
    {
     "data": {
      "text/plain": [
       "<Axes: >"
      ]
     },
     "execution_count": 119,
     "metadata": {},
     "output_type": "execute_result"
    },
    {
     "data": {
      "image/png": "[encoded data removed]",
      "text/plain": [
       "<Figure size 640x480 with 1 Axes>"
      ]
     },
     "metadata": {},
     "output_type": "display_data"
    }
   ],
   "source": [
    "ds[\"target\"].hist(bins=1000)"
   ]
  },
  {
   "cell_type": "code",
   "execution_count": 121,
   "metadata": {},
   "outputs": [
    {
     "data": {
      "image/png": "[encoded data removed]",
      "text/plain": [
       "<Figure size 2000x1000 with 1 Axes>"
      ]
     },
     "metadata": {},
     "output_type": "display_data"
    }
   ],
   "source": [
    "import matplotlib.pyplot as plt\n",
    "import numpy as np\n",
    "from sklearn.linear_model import LinearRegression\n",
    "\n",
    "# Datos de prueba y predicciones\n",
    "y_test = np.array(y_test)\n",
    "y_pred = xgb_model.predict(X_test)\n",
    "\n",
    "# Crear la figura y los ejes\n",
    "fig, ax = plt.subplots(figsize=(20, 10))\n",
    "\n",
    "# Dibujar el gráfico de dispersión\n",
    "ax.scatter(y_test, y_pred, label=\"Datos\")\n",
    "\n",
    "# Dibujar la línea x=y\n",
    "ax.plot(\n",
    "    [y_test.min(), y_test.max()], [y_test.min(), y_test.max()], \"k--\", lw=2, label=\"x=y\"\n",
    ")\n",
    "\n",
    "# Calcular la línea de regresión\n",
    "reg = LinearRegression().fit(y_test.reshape(-1, 1), y_pred)\n",
    "y_pred_line = reg.predict(y_test.reshape(-1, 1))\n",
    "\n",
    "# Dibujar la línea de regresión\n",
    "ax.plot(y_test, y_pred_line, color=\"red\", label=\"Línea de regresión\")\n",
    "\n",
    "# Añadir leyenda\n",
    "ax.legend()\n",
    "\n",
    "# Mostrar el gráfico\n",
    "plt.show()"
   ]
  },
  {
   "cell_type": "code",
   "execution_count": 88,
   "metadata": {},
   "outputs": [
    {
     "data": {
      "image/png": "[encoded data removed]",
      "text/plain": [
       "<Figure size 2000x1000 with 1 Axes>"
      ]
     },
     "metadata": {},
     "output_type": "display_data"
    }
   ],
   "source": [
    "# Feature importance\n",
    "\n",
    "from xgboost import plot_importance\n",
    "\n",
    "fig, ax = plt.subplots(figsize=(20, 10))\n",
    "\n",
    "plot_importance(xgb_model, ax=ax)\n",
    "\n",
    "plt.show()"
   ]
  },
  {
   "cell_type": "code",
   "execution_count": 19,
   "metadata": {},
   "outputs": [
    {
     "data": {
      "text/plain": [
       "<Axes: >"
      ]
     },
     "execution_count": 19,
     "metadata": {},
     "output_type": "execute_result"
    },
    {
     "data": {
      "image/png": "[encoded data removed]",
      "text/plain": [
       "<Figure size 640x480 with 1 Axes>"
      ]
     },
     "metadata": {},
     "output_type": "display_data"
    }
   ],
   "source": [
    "pd.concat([ds[\"player_1\"], ds[\"player_2\"]], axis=0).value_counts().hist()"
   ]
  },
  {
   "cell_type": "code",
   "execution_count": null,
   "metadata": {},
   "outputs": [],
   "source": []
  }
 ],
 "metadata": {
  "kernelspec": {
   "display_name": "Python 3",
   "language": "python",
   "name": "python3"
  },
  "language_info": {
   "codemirror_mode": {
    "name": "ipython",
    "version": 3
   },
   "file_extension": ".py",
   "mimetype": "text/x-python",
   "name": "python",
   "nbconvert_exporter": "python",
   "pygments_lexer": "ipython3",
   "version": "3.10.14"
  }
 },
 "nbformat": 4,
 "nbformat_minor": 2
}
