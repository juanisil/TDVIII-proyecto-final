{
 "cells": [
  {
   "cell_type": "code",
   "execution_count": 1,
   "metadata": {},
   "outputs": [],
   "source": [
    "import numpy as np\n",
    "\n",
    "import sys\n",
    "\n",
    "sys.path.append(\"../\")\n",
    "\n",
    "from src.futbol_types import TransitionMatrix\n"
   ]
  },
  {
   "cell_type": "code",
   "execution_count": 2,
   "metadata": {},
   "outputs": [
    {
     "data": {
      "text/plain": [
       "(380, 2, 4, 15, 15)"
      ]
     },
     "execution_count": 2,
     "metadata": {},
     "output_type": "execute_result"
    }
   ],
   "source": [
    "R_storage = np.load(\"R_storage.npy\")\n",
    "R_storage.shape"
   ]
  },
  {
   "cell_type": "code",
   "execution_count": 4,
   "metadata": {},
   "outputs": [],
   "source": [
    "from src.utils_CTMC import build_Q\n",
    "\n",
    "Q_storage = np.zeros(R_storage.shape)\n",
    "\n",
    "for pi in range(R_storage.shape[0]):\n",
    "    for ti in range(R_storage.shape[1]):\n",
    "        for li in range(R_storage.shape[2]):\n",
    "            if np.sum(R_storage[pi, ti, li, :]) != 0:\n",
    "                Q_storage[pi, ti, li, :] = build_Q(R_storage[pi, ti, li, :])"
   ]
  },
  {
   "cell_type": "code",
   "execution_count": 5,
   "metadata": {},
   "outputs": [],
   "source": [
    "from src.event_processing import leer_excel\n",
    "\n",
    "epl = leer_excel(\"../SampleData/epl.xlsx\")"
   ]
  },
  {
   "cell_type": "code",
   "execution_count": 6,
   "metadata": {},
   "outputs": [],
   "source": [
    "from src.event_processing import leer_excel\n",
    "\n",
    "epl = leer_excel(\"../SampleData/epl.xlsx\")\n",
    "\n",
    "from src.event_processing import (\n",
    "    separar_partido_del_equipo_en_lineups,\n",
    "    separar_partido_en_equipo_pov,\n",
    "    separar_partidos,\n",
    ")\n",
    "from src.match_data_extraction import get_lineup_duration\n",
    "\n",
    "\n",
    "lineup_durations = np.zeros(R_storage.shape[:-2])\n",
    "partidos = separar_partidos(epl)\n",
    "for pi, partido in enumerate(partidos):\n",
    "     for ti, equipo in enumerate(separar_partido_en_equipo_pov(partido)):\n",
    "            for li, lineup in enumerate(separar_partido_del_equipo_en_lineups(equipo)):\n",
    "                    lineup_durations[pi, ti, li] = get_lineup_duration(lineup)"
   ]
  },
  {
   "cell_type": "code",
   "execution_count": 7,
   "metadata": {},
   "outputs": [
    {
     "name": "stdout",
     "output_type": "stream",
     "text": [
      "(380, 2)\n"
     ]
    }
   ],
   "source": [
    "from src.utils_CTMC import psl_estimator\n",
    "\n",
    "psls = np.zeros(R_storage.shape[:2])\n",
    "print(psls.shape)\n",
    "\n",
    "for pi, partido in enumerate(partidos):\n",
    "    for ti, equipo in enumerate(separar_partido_en_equipo_pov(partido)):\n",
    "        ti_psls = []\n",
    "        li_durs = []\n",
    "        for li, lineup in enumerate(separar_partido_del_equipo_en_lineups(equipo)):\n",
    "            # In R_storage[pi, ti, li, 0, :] we have the ids of the players in the lineup\n",
    "            Q = Q_storage[pi, ti, li, 1:, 1:]\n",
    "            psl = psl_estimator(Q)\n",
    "            ti_psls.append(psl)\n",
    "            li_durs.append(get_lineup_duration(lineup))\n",
    "\n",
    "        psls[pi, ti] = np.average(ti_psls, weights=li_durs)"
   ]
  },
  {
   "cell_type": "code",
   "execution_count": 11,
   "metadata": {},
   "outputs": [
    {
     "data": {
      "text/plain": [
       "array([    0.,     0., 17733., 19524., 15943., 20467., 80254.,  8758.,\n",
       "       42427., 17127., 43274., 28566., 59936.,     0.,     0.])"
      ]
     },
     "execution_count": 11,
     "metadata": {},
     "output_type": "execute_result"
    }
   ],
   "source": [
    "R_storage[0, 0, 0, 0, :]"
   ]
  },
  {
   "cell_type": "code",
   "execution_count": 20,
   "metadata": {},
   "outputs": [
    {
     "data": {
      "text/plain": [
       "'p37572'"
      ]
     },
     "execution_count": 20,
     "metadata": {},
     "output_type": "execute_result"
    }
   ],
   "source": [
    "from src.epl_player_data_utils import EPLPlayerData\n",
    "\n",
    "\n",
    "epl_player_json_path = \"../SampleData/players.json\"\n",
    "epl_player_data = EPLPlayerData(epl_player_json_path)\n",
    "sample_player_id = epl_player_data.get_player_id_by_lastname(\"Agüero\")\n",
    "sample_player_id"
   ]
  },
  {
   "cell_type": "code",
   "execution_count": 46,
   "metadata": {},
   "outputs": [],
   "source": [
    "# Find the R_storage[ti, li, :, :, :] in wich Agüero is present\n",
    "durations = {}\n",
    "sample_player_id = 37572\n",
    "for pi in range(R_storage.shape[0]):\n",
    "    for ti in range(R_storage.shape[1]):\n",
    "\n",
    "        if (pi, ti) in durations:\n",
    "            continue\n",
    "\n",
    "        for li in range(R_storage.shape[2]):\n",
    "            if sample_player_id in R_storage[pi, ti, li, 0, :]:\n",
    "                durations[(pi, ti)] = lineup_durations[pi, ti, :]\n",
    "                break\n"
   ]
  },
  {
   "cell_type": "code",
   "execution_count": 57,
   "metadata": {},
   "outputs": [],
   "source": [
    "# Player Weighting\n",
    "\n",
    "# For each lineup in which Agüero is present, we will calculate the PSL\n",
    "# But the q value in wich sample_player is present will be weighted by an alpha value [0, 1] every 0.1\n",
    "\n",
    "from src.utils_CTMC import psl_estimator\n",
    "\n",
    "alpha_values = np.array(range(0, 10, 1)) / 10\n",
    "\n",
    "weighted_psls_matches = {}\n",
    "for pi, ti in durations.keys():\n",
    "    weighted_psls = []\n",
    "    for alpha in alpha_values:\n",
    "        psls = []\n",
    "        durs = []\n",
    "        for li in range(R_storage.shape[2]):\n",
    "            if sample_player_id in R_storage[pi, ti, li, 0, :]:\n",
    "                sample_player_id_pos = np.where(R_storage[pi, ti, li, 0, :] == sample_player_id)[0][0]\n",
    "                Q = Q_storage[pi, ti, li, :, :]\n",
    "                Q[sample_player_id_pos, :] = alpha * Q[sample_player_id_pos, :]\n",
    "                Q[:, sample_player_id_pos] = alpha * Q[:, sample_player_id_pos]\n",
    "                psl = psl_estimator(Q[1:, 1:])\n",
    "                psls.append(psl)\n",
    "                durs.append(lineup_durations[pi, ti, li])\n",
    "        weighted_psls.append(\n",
    "            (np.average(psls, weights=durs), alpha)\n",
    "        )\n",
    "\n",
    "    weighted_psls_matches[(pi, ti)] = weighted_psls"
   ]
  },
  {
   "cell_type": "code",
   "execution_count": 43,
   "metadata": {},
   "outputs": [],
   "source": [
    "import matplotlib.pyplot as plt"
   ]
  },
  {
   "cell_type": "code",
   "execution_count": 58,
   "metadata": {},
   "outputs": [
    {
     "data": {
      "text/plain": [
       "[<matplotlib.lines.Line2D at 0x12a958f70>]"
      ]
     },
     "execution_count": 58,
     "metadata": {},
     "output_type": "execute_result"
    },
    {
     "data": {
      "image/png": "[encoded data removed]",
      "text/plain": [
       "<Figure size 640x480 with 1 Axes>"
      ]
     },
     "metadata": {},
     "output_type": "display_data"
    }
   ],
   "source": [
    "# Sample (pi, ti) with the best PSL when alpha = 0\n",
    "max_psl = -1\n",
    "max_psl_match = None\n",
    "for match, weighted_psls in weighted_psls_matches.items():\n",
    "    if weighted_psls[0][0] > max_psl:\n",
    "        max_psl = weighted_psls[0][0]\n",
    "        max_psl_match = match\n",
    "\n",
    "weighted_psls_sample = weighted_psls_matches[max_psl_match]\n",
    "\n",
    "fig, ax = plt.subplots()\n",
    "\n",
    "ax.plot(alpha_values, [x[0] for x in weighted_psls_sample])\n"
   ]
  },
  {
   "cell_type": "code",
   "execution_count": 49,
   "metadata": {},
   "outputs": [
    {
     "data": {
      "text/plain": [
       "[<matplotlib.lines.Line2D at 0x1266cca90>]"
      ]
     },
     "execution_count": 49,
     "metadata": {},
     "output_type": "execute_result"
    },
    {
     "data": {
      "image/png": "[encoded data removed]",
      "text/plain": [
       "<Figure size 640x480 with 1 Axes>"
      ]
     },
     "metadata": {},
     "output_type": "display_data"
    }
   ],
   "source": [
    "# Sample (pi, ti) with the most variance in PSL when alpha changes\n",
    "max_var = -1\n",
    "max_var_match = None\n",
    "\n",
    "for match, weighted_psls in weighted_psls_matches.items():\n",
    "    psls = [x[0] for x in weighted_psls]\n",
    "    var = np.var(psls)\n",
    "    if var > max_var:\n",
    "        max_var = var\n",
    "        max_var_match = match\n",
    "\n",
    "weighted_psls_sample = weighted_psls_matches[max_var_match]\n",
    "\n",
    "fig, ax = plt.subplots()\n",
    "\n",
    "ax.plot(alpha_values, [x[0] for x in weighted_psls_sample])\n"
   ]
  },
  {
   "cell_type": "code",
   "execution_count": 77,
   "metadata": {},
   "outputs": [
    {
     "data": {
      "text/plain": [
       "(14, 14)"
      ]
     },
     "execution_count": 77,
     "metadata": {},
     "output_type": "execute_result"
    }
   ],
   "source": [
    "R_storage[0, 0, 0, 1:, 1:].shape"
   ]
  },
  {
   "cell_type": "code",
   "execution_count": 86,
   "metadata": {},
   "outputs": [],
   "source": [
    "# Dataset for target: q(p, S)\n",
    "\n",
    "shots_dataset = []\n",
    "\n",
    "for pi, partido in enumerate(partidos):\n",
    "    match_id = partido[\"match_id\"].values[0]\n",
    "    for ti, equipo in enumerate(separar_partido_en_equipo_pov(partido)):\n",
    "        for li, lineup in enumerate(separar_partido_del_equipo_en_lineups(equipo)):\n",
    "            R = R_storage[pi, ti, li, 1:, 1:]\n",
    "            players = R_storage[pi, ti, li, 0, :]\n",
    "            for player_id in players:\n",
    "                player_pos = np.where(players == player_id)[0][0]\n",
    "                \n",
    "                # Value in R[player_pos, 13] is the ratio of shots to time played for player_id\n",
    "                shots_dataset.append({\n",
    "                    \"player_id\": player_id,\n",
    "                    \"team_id\": ti,\n",
    "                    \"match_id\": match_id,\n",
    "                    \"match_num\": pi,\n",
    "                    \"lineup_id\": li,\n",
    "                    \"shots_ratio\": R[player_pos, 13]\n",
    "                })\n",
    "            "
   ]
  },
  {
   "cell_type": "code",
   "execution_count": 80,
   "metadata": {},
   "outputs": [],
   "source": [
    "import pandas as pd"
   ]
  },
  {
   "cell_type": "code",
   "execution_count": 87,
   "metadata": {},
   "outputs": [
    {
     "data": {
      "text/html": [
       "<div>\n",
       "<style scoped>\n",
       "    .dataframe tbody tr th:only-of-type {\n",
       "        vertical-align: middle;\n",
       "    }\n",
       "\n",
       "    .dataframe tbody tr th {\n",
       "        vertical-align: top;\n",
       "    }\n",
       "\n",
       "    .dataframe thead th {\n",
       "        text-align: right;\n",
       "    }\n",
       "</style>\n",
       "<table border=\"1\" class=\"dataframe\">\n",
       "  <thead>\n",
       "    <tr style=\"text-align: right;\">\n",
       "      <th></th>\n",
       "      <th>player_id</th>\n",
       "      <th>team_id</th>\n",
       "      <th>match_id</th>\n",
       "      <th>match_num</th>\n",
       "      <th>lineup_id</th>\n",
       "      <th>shots_ratio</th>\n",
       "    </tr>\n",
       "  </thead>\n",
       "  <tbody>\n",
       "    <tr>\n",
       "      <th>0</th>\n",
       "      <td>0.0</td>\n",
       "      <td>0</td>\n",
       "      <td>441999</td>\n",
       "      <td>0</td>\n",
       "      <td>0</td>\n",
       "      <td>0.000000</td>\n",
       "    </tr>\n",
       "    <tr>\n",
       "      <th>1</th>\n",
       "      <td>0.0</td>\n",
       "      <td>0</td>\n",
       "      <td>441999</td>\n",
       "      <td>0</td>\n",
       "      <td>0</td>\n",
       "      <td>0.000000</td>\n",
       "    </tr>\n",
       "    <tr>\n",
       "      <th>2</th>\n",
       "      <td>17733.0</td>\n",
       "      <td>0</td>\n",
       "      <td>441999</td>\n",
       "      <td>0</td>\n",
       "      <td>0</td>\n",
       "      <td>0.032249</td>\n",
       "    </tr>\n",
       "    <tr>\n",
       "      <th>3</th>\n",
       "      <td>19524.0</td>\n",
       "      <td>0</td>\n",
       "      <td>441999</td>\n",
       "      <td>0</td>\n",
       "      <td>0</td>\n",
       "      <td>0.016125</td>\n",
       "    </tr>\n",
       "    <tr>\n",
       "      <th>4</th>\n",
       "      <td>15943.0</td>\n",
       "      <td>0</td>\n",
       "      <td>441999</td>\n",
       "      <td>0</td>\n",
       "      <td>0</td>\n",
       "      <td>0.016125</td>\n",
       "    </tr>\n",
       "    <tr>\n",
       "      <th>...</th>\n",
       "      <td>...</td>\n",
       "      <td>...</td>\n",
       "      <td>...</td>\n",
       "      <td>...</td>\n",
       "      <td>...</td>\n",
       "      <td>...</td>\n",
       "    </tr>\n",
       "    <tr>\n",
       "      <th>41920</th>\n",
       "      <td>76227.0</td>\n",
       "      <td>1</td>\n",
       "      <td>442378</td>\n",
       "      <td>379</td>\n",
       "      <td>3</td>\n",
       "      <td>0.000000</td>\n",
       "    </tr>\n",
       "    <tr>\n",
       "      <th>41921</th>\n",
       "      <td>50471.0</td>\n",
       "      <td>1</td>\n",
       "      <td>442378</td>\n",
       "      <td>379</td>\n",
       "      <td>3</td>\n",
       "      <td>0.000000</td>\n",
       "    </tr>\n",
       "    <tr>\n",
       "      <th>41922</th>\n",
       "      <td>125510.0</td>\n",
       "      <td>1</td>\n",
       "      <td>442378</td>\n",
       "      <td>379</td>\n",
       "      <td>3</td>\n",
       "      <td>0.000000</td>\n",
       "    </tr>\n",
       "    <tr>\n",
       "      <th>41923</th>\n",
       "      <td>0.0</td>\n",
       "      <td>1</td>\n",
       "      <td>442378</td>\n",
       "      <td>379</td>\n",
       "      <td>3</td>\n",
       "      <td>0.000000</td>\n",
       "    </tr>\n",
       "    <tr>\n",
       "      <th>41924</th>\n",
       "      <td>0.0</td>\n",
       "      <td>1</td>\n",
       "      <td>442378</td>\n",
       "      <td>379</td>\n",
       "      <td>3</td>\n",
       "      <td>0.000000</td>\n",
       "    </tr>\n",
       "  </tbody>\n",
       "</table>\n",
       "<p>41925 rows × 6 columns</p>\n",
       "</div>"
      ],
      "text/plain": [
       "       player_id  team_id  match_id  match_num  lineup_id  shots_ratio\n",
       "0            0.0        0    441999          0          0     0.000000\n",
       "1            0.0        0    441999          0          0     0.000000\n",
       "2        17733.0        0    441999          0          0     0.032249\n",
       "3        19524.0        0    441999          0          0     0.016125\n",
       "4        15943.0        0    441999          0          0     0.016125\n",
       "...          ...      ...       ...        ...        ...          ...\n",
       "41920    76227.0        1    442378        379          3     0.000000\n",
       "41921    50471.0        1    442378        379          3     0.000000\n",
       "41922   125510.0        1    442378        379          3     0.000000\n",
       "41923        0.0        1    442378        379          3     0.000000\n",
       "41924        0.0        1    442378        379          3     0.000000\n",
       "\n",
       "[41925 rows x 6 columns]"
      ]
     },
     "execution_count": 87,
     "metadata": {},
     "output_type": "execute_result"
    }
   ],
   "source": [
    "s_ds = pd.DataFrame(shots_dataset)\n",
    "s_ds"
   ]
  },
  {
   "cell_type": "code",
   "execution_count": 88,
   "metadata": {},
   "outputs": [],
   "source": [
    "s_ds.to_csv(\"shots_dataset.csv\", index=False)"
   ]
  },
  {
   "cell_type": "code",
   "execution_count": null,
   "metadata": {},
   "outputs": [],
   "source": []
  }
 ],
 "metadata": {
  "kernelspec": {
   "display_name": ".conda",
   "language": "python",
   "name": "python3"
  },
  "language_info": {
   "codemirror_mode": {
    "name": "ipython",
    "version": 3
   },
   "file_extension": ".py",
   "mimetype": "text/x-python",
   "name": "python",
   "nbconvert_exporter": "python",
   "pygments_lexer": "ipython3",
   "version": "3.10.14"
  }
 },
 "nbformat": 4,
 "nbformat_minor": 2
}
